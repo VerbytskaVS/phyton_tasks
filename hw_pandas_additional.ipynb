{
 "cells": [
  {
   "cell_type": "markdown",
   "id": "f27af02b",
   "metadata": {},
   "source": [
    "# Додаткове завдання з pandas\n",
    "Вітаю! В цьому завданні будемо працювати з даними з опитування щодо зарплат ІТ спеціалістів на рексурсі DOU від грудня 2022 року. Впевнена, це буде цікаве дослідження, а заразом і практика pandas :)\n",
    "Цей аналіз може бути корисним людині, яка обирає напрям роботи в ІТ і хоче зрозуміти тенденції. За якісного виконання цього аналізу, цей проєкт можна сміливо додавати у Ваше портфоліо!"
   ]
  },
  {
   "cell_type": "markdown",
   "id": "dce4f0a0",
   "metadata": {},
   "source": [
    "1. Зчитайте дані з файлу `2022_dec_raw.csv`. Увага! Тут необхідно використати аргумент `pd.read_csv` `sep=';'`, бо розділювач в даних - крапка з комою."
   ]
  },
  {
   "cell_type": "code",
   "execution_count": 19,
   "id": "a238c418",
   "metadata": {},
   "outputs": [],
   "source": [
    "import numpy as np\n",
    "import pandas as pd"
   ]
  },
  {
   "cell_type": "code",
   "execution_count": 20,
   "id": "456043e6-4f67-4585-965f-38982acf6385",
   "metadata": {},
   "outputs": [
    {
     "data": {
      "text/html": [
       "<div>\n",
       "<style scoped>\n",
       "    .dataframe tbody tr th:only-of-type {\n",
       "        vertical-align: middle;\n",
       "    }\n",
       "\n",
       "    .dataframe tbody tr th {\n",
       "        vertical-align: top;\n",
       "    }\n",
       "\n",
       "    .dataframe thead th {\n",
       "        text-align: right;\n",
       "    }\n",
       "</style>\n",
       "<table border=\"1\" class=\"dataframe\">\n",
       "  <thead>\n",
       "    <tr style=\"text-align: right;\">\n",
       "      <th></th>\n",
       "      <th>Timestamp</th>\n",
       "      <th>Ви працюєте зараз в ІТ?</th>\n",
       "      <th>Де ви зараз живете?</th>\n",
       "      <th>В якій області ви зараз живете?</th>\n",
       "      <th>Зарплата у $$$ за місяць, лише ставка після сплати податків</th>\n",
       "      <th>Ваша стать</th>\n",
       "      <th>Ваш вік</th>\n",
       "      <th>Яка у вас освіта?</th>\n",
       "      <th>Чи є у вас науковий ступінь?</th>\n",
       "      <th>Знання англійської мови</th>\n",
       "      <th>...</th>\n",
       "      <th>Ваша посада4</th>\n",
       "      <th>Ваша посада5</th>\n",
       "      <th>Ваша посада6</th>\n",
       "      <th>Ваша посада7</th>\n",
       "      <th>Чи використовуєте ви у своїй роботі мови програмування (одну чи декілька)?</th>\n",
       "      <th>Основна мова програмування</th>\n",
       "      <th>Вкажіть вашу основну спеціалізацію</th>\n",
       "      <th>В якій сфері працюєте?</th>\n",
       "      <th>Тип компанії</th>\n",
       "      <th>Загальний стаж роботи за спеціальністю</th>\n",
       "    </tr>\n",
       "  </thead>\n",
       "  <tbody>\n",
       "    <tr>\n",
       "      <th>0</th>\n",
       "      <td>11.30.2022 10:26:37</td>\n",
       "      <td>Так, працюю part-time</td>\n",
       "      <td>В Україні</td>\n",
       "      <td>Івано-Франківськ чи область</td>\n",
       "      <td>4000</td>\n",
       "      <td>Чоловік</td>\n",
       "      <td>29</td>\n",
       "      <td>Вища (бакалавр, спеціаліст, магістр)</td>\n",
       "      <td>Немає</td>\n",
       "      <td>Intermediate</td>\n",
       "      <td>...</td>\n",
       "      <td>NaN</td>\n",
       "      <td>NaN</td>\n",
       "      <td>NaN</td>\n",
       "      <td>NaN</td>\n",
       "      <td>NaN</td>\n",
       "      <td>NaN</td>\n",
       "      <td>NaN</td>\n",
       "      <td>Blockchain</td>\n",
       "      <td>Стартап</td>\n",
       "      <td>8 років</td>\n",
       "    </tr>\n",
       "    <tr>\n",
       "      <th>1</th>\n",
       "      <td>11.30.2022 10:26:39</td>\n",
       "      <td>Так, працюю full-time</td>\n",
       "      <td>За кордоном (переїхали через війну, але планую...</td>\n",
       "      <td>NaN</td>\n",
       "      <td>NaN</td>\n",
       "      <td>Чоловік</td>\n",
       "      <td>36</td>\n",
       "      <td>Вища (бакалавр, спеціаліст, магістр)</td>\n",
       "      <td>Немає</td>\n",
       "      <td>Advanced</td>\n",
       "      <td>...</td>\n",
       "      <td>NaN</td>\n",
       "      <td>NaN</td>\n",
       "      <td>NaN</td>\n",
       "      <td>NaN</td>\n",
       "      <td>NaN</td>\n",
       "      <td>Ruby</td>\n",
       "      <td>Full Stack розробка</td>\n",
       "      <td>Public services / Government</td>\n",
       "      <td>Продуктова</td>\n",
       "      <td>3 роки</td>\n",
       "    </tr>\n",
       "    <tr>\n",
       "      <th>2</th>\n",
       "      <td>11.30.2022 10:26:58</td>\n",
       "      <td>Так, працюю full-time</td>\n",
       "      <td>В Україні</td>\n",
       "      <td>Київ чи область</td>\n",
       "      <td>2500</td>\n",
       "      <td>Чоловік</td>\n",
       "      <td>34</td>\n",
       "      <td>Вища (бакалавр, спеціаліст, магістр)</td>\n",
       "      <td>Немає</td>\n",
       "      <td>Elementary</td>\n",
       "      <td>...</td>\n",
       "      <td>NaN</td>\n",
       "      <td>NaN</td>\n",
       "      <td>NaN</td>\n",
       "      <td>NaN</td>\n",
       "      <td>NaN</td>\n",
       "      <td>C# / .NET</td>\n",
       "      <td>Full Stack розробка</td>\n",
       "      <td>Adtech / Advertising, Security, Telecom</td>\n",
       "      <td>Продуктова</td>\n",
       "      <td>4 роки</td>\n",
       "    </tr>\n",
       "    <tr>\n",
       "      <th>3</th>\n",
       "      <td>11.30.2022 10:27:31</td>\n",
       "      <td>Так, працюю full-time</td>\n",
       "      <td>В Україні</td>\n",
       "      <td>Львів чи область</td>\n",
       "      <td>500</td>\n",
       "      <td>Жінка</td>\n",
       "      <td>23</td>\n",
       "      <td>Вища (бакалавр, спеціаліст, магістр)</td>\n",
       "      <td>Немає</td>\n",
       "      <td>Pre-Intermediate</td>\n",
       "      <td>...</td>\n",
       "      <td>NaN</td>\n",
       "      <td>NaN</td>\n",
       "      <td>NaN</td>\n",
       "      <td>NaN</td>\n",
       "      <td>Ні, не використовую</td>\n",
       "      <td>NaN</td>\n",
       "      <td>NaN</td>\n",
       "      <td>Telecom</td>\n",
       "      <td>Продуктова</td>\n",
       "      <td>Пів року</td>\n",
       "    </tr>\n",
       "    <tr>\n",
       "      <th>4</th>\n",
       "      <td>11.30.2022 10:27:34</td>\n",
       "      <td>Ні, тимчасово не працюю</td>\n",
       "      <td>В Україні</td>\n",
       "      <td>Житомир чи область</td>\n",
       "      <td>2800</td>\n",
       "      <td>Жінка</td>\n",
       "      <td>33</td>\n",
       "      <td>Вища (бакалавр, спеціаліст, магістр)</td>\n",
       "      <td>Немає</td>\n",
       "      <td>Upper-Intermediate</td>\n",
       "      <td>...</td>\n",
       "      <td>NaN</td>\n",
       "      <td>NaN</td>\n",
       "      <td>NaN</td>\n",
       "      <td>NaN</td>\n",
       "      <td>Ні, не використовую</td>\n",
       "      <td>NaN</td>\n",
       "      <td>NaN</td>\n",
       "      <td>Automotive</td>\n",
       "      <td>Продуктова</td>\n",
       "      <td>6 років</td>\n",
       "    </tr>\n",
       "  </tbody>\n",
       "</table>\n",
       "<p>5 rows × 28 columns</p>\n",
       "</div>"
      ],
      "text/plain": [
       "             Timestamp  Ви працюєте зараз в ІТ?  \\\n",
       "0  11.30.2022 10:26:37    Так, працюю part-time   \n",
       "1  11.30.2022 10:26:39    Так, працюю full-time   \n",
       "2  11.30.2022 10:26:58    Так, працюю full-time   \n",
       "3  11.30.2022 10:27:31    Так, працюю full-time   \n",
       "4  11.30.2022 10:27:34  Ні, тимчасово не працюю   \n",
       "\n",
       "                                Де ви зараз живете?   \\\n",
       "0                                          В Україні   \n",
       "1  За кордоном (переїхали через війну, але планую...   \n",
       "2                                          В Україні   \n",
       "3                                          В Україні   \n",
       "4                                          В Україні   \n",
       "\n",
       "  В якій області ви зараз живете?  \\\n",
       "0     Івано-Франківськ чи область   \n",
       "1                             NaN   \n",
       "2                 Київ чи область   \n",
       "3                Львів чи область   \n",
       "4              Житомир чи область   \n",
       "\n",
       "  Зарплата у $$$ за місяць, лише ставка після сплати податків Ваша стать  \\\n",
       "0                                               4000             Чоловік   \n",
       "1                                                NaN             Чоловік   \n",
       "2                                               2500             Чоловік   \n",
       "3                                                500               Жінка   \n",
       "4                                               2800               Жінка   \n",
       "\n",
       "  Ваш вік                     Яка у вас освіта? Чи є у вас науковий ступінь?   \\\n",
       "0      29  Вища (бакалавр, спеціаліст, магістр)                         Немає   \n",
       "1      36  Вища (бакалавр, спеціаліст, магістр)                         Немає   \n",
       "2      34  Вища (бакалавр, спеціаліст, магістр)                         Немає   \n",
       "3      23  Вища (бакалавр, спеціаліст, магістр)                         Немає   \n",
       "4      33  Вища (бакалавр, спеціаліст, магістр)                         Немає   \n",
       "\n",
       "  Знання англійської мови  ... Ваша посада4 Ваша посада5 Ваша посада6  \\\n",
       "0            Intermediate  ...          NaN          NaN          NaN   \n",
       "1                Advanced  ...          NaN          NaN          NaN   \n",
       "2              Elementary  ...          NaN          NaN          NaN   \n",
       "3        Pre-Intermediate  ...          NaN          NaN          NaN   \n",
       "4      Upper-Intermediate  ...          NaN          NaN          NaN   \n",
       "\n",
       "  Ваша посада7  \\\n",
       "0          NaN   \n",
       "1          NaN   \n",
       "2          NaN   \n",
       "3          NaN   \n",
       "4          NaN   \n",
       "\n",
       "  Чи використовуєте ви у своїй роботі мови програмування (одну чи декілька)?  \\\n",
       "0                                                NaN                           \n",
       "1                                                NaN                           \n",
       "2                                                NaN                           \n",
       "3                                Ні, не використовую                           \n",
       "4                                Ні, не використовую                           \n",
       "\n",
       "  Основна мова програмування Вкажіть вашу основну спеціалізацію  \\\n",
       "0                        NaN                                NaN   \n",
       "1                       Ruby                Full Stack розробка   \n",
       "2                  C# / .NET                Full Stack розробка   \n",
       "3                        NaN                                NaN   \n",
       "4                        NaN                                NaN   \n",
       "\n",
       "                    В якій сфері працюєте? Тип компанії  \\\n",
       "0                               Blockchain      Стартап   \n",
       "1             Public services / Government   Продуктова   \n",
       "2  Adtech / Advertising, Security, Telecom   Продуктова   \n",
       "3                                  Telecom   Продуктова   \n",
       "4                               Automotive   Продуктова   \n",
       "\n",
       "  Загальний стаж роботи за спеціальністю  \n",
       "0                                8 років  \n",
       "1                                 3 роки  \n",
       "2                                 4 роки  \n",
       "3                               Пів року  \n",
       "4                                6 років  \n",
       "\n",
       "[5 rows x 28 columns]"
      ]
     },
     "execution_count": 20,
     "metadata": {},
     "output_type": "execute_result"
    }
   ],
   "source": [
    "df = pd.read_csv(r'../Homework/data/2022_dec_raw.csv', sep = ';')\n",
    "df.head()"
   ]
  },
  {
   "cell_type": "markdown",
   "id": "7cf480dc",
   "metadata": {},
   "source": [
    "2. Які колонки мають дані?"
   ]
  },
  {
   "cell_type": "code",
   "execution_count": 21,
   "id": "3768c4d4",
   "metadata": {},
   "outputs": [
    {
     "name": "stdout",
     "output_type": "stream",
     "text": [
      "['Timestamp', 'Ви працюєте зараз в ІТ?', 'Де ви зараз живете? ', 'В якій області ви зараз живете?', 'Зарплата у $$$ за місяць, лише ставка після сплати податків', 'Ваша стать', 'Ваш вік', 'Яка у вас освіта?', 'Чи є у вас науковий ступінь? ', 'Знання англійської мови', 'Оберіть вашу посаду', 'Ваш тайтл', 'Ваша спеціалізація', 'Вкажіть вашу спеціалізацію', 'Оберіть вашу спеціалізацію', 'Ваша посада', 'Оберіть вашу посаду2', 'Ваша посада3', 'Ваша посада4', 'Ваша посада5', 'Ваша посада6', 'Ваша посада7', 'Чи використовуєте ви у своїй роботі мови програмування (одну чи декілька)?', 'Основна мова програмування', 'Вкажіть вашу основну спеціалізацію', 'В якій сфері працюєте?', 'Тип компанії', 'Загальний стаж роботи за спеціальністю']\n"
     ]
    }
   ],
   "source": [
    "print(list(df.columns))"
   ]
  },
  {
   "cell_type": "markdown",
   "id": "6d324476",
   "metadata": {},
   "source": [
    "3. Скільки рядків та колонок мають дані? Скільки пропущених значень має кожна з колонок?"
   ]
  },
  {
   "cell_type": "code",
   "execution_count": 22,
   "id": "4abb52fa",
   "metadata": {},
   "outputs": [
    {
     "name": "stdout",
     "output_type": "stream",
     "text": [
      "Даний набір данних має 13315 рядків та  28 колонок\n",
      "Timestamp                                                                         0\n",
      "Ви працюєте зараз в ІТ?                                                           0\n",
      "Де ви зараз живете?                                                               0\n",
      "В якій області ви зараз живете?                                                1777\n",
      "Зарплата у $$$ за місяць, лише ставка після сплати податків                      27\n",
      "Ваша стать                                                                        0\n",
      "Ваш вік                                                                           0\n",
      "Яка у вас освіта?                                                                 0\n",
      "Чи є у вас науковий ступінь?                                                    111\n",
      "Знання англійської мови                                                           0\n",
      "Оберіть вашу посаду                                                               0\n",
      "Ваш тайтл                                                                         0\n",
      "Ваша спеціалізація                                                            13156\n",
      "Вкажіть вашу спеціалізацію                                                    10951\n",
      "Оберіть вашу спеціалізацію                                                    12829\n",
      "Ваша посада                                                                   13010\n",
      "Оберіть вашу посаду2                                                          12755\n",
      "Ваша посада3                                                                  12494\n",
      "Ваша посада4                                                                  12830\n",
      "Ваша посада5                                                                  13027\n",
      "Ваша посада6                                                                  12962\n",
      "Ваша посада7                                                                  13199\n",
      "Чи використовуєте ви у своїй роботі мови програмування (одну чи декілька)?     8441\n",
      "Основна мова програмування                                                     4255\n",
      "Вкажіть вашу основну спеціалізацію                                             4256\n",
      "В якій сфері працюєте?                                                            0\n",
      "Тип компанії                                                                      0\n",
      "Загальний стаж роботи за спеціальністю                                            0\n",
      "dtype: int64\n"
     ]
    }
   ],
   "source": [
    "print(f'Даний набір данних має {df.shape[0]} рядків та  {df.shape[1]} колонок')\n",
    "print(df.isna().sum())"
   ]
  },
  {
   "cell_type": "markdown",
   "id": "854846c5",
   "metadata": {
    "ExecuteTime": {
     "end_time": "2023-07-06T09:12:21.537631Z",
     "start_time": "2023-07-06T09:12:21.481059Z"
    }
   },
   "source": [
    "4. Які колонки мають всі значення заповненими (не мають дожного None значення)? Виведіть програмно список цих колонок."
   ]
  },
  {
   "cell_type": "code",
   "execution_count": 23,
   "id": "5de7ccb7",
   "metadata": {},
   "outputs": [
    {
     "name": "stdout",
     "output_type": "stream",
     "text": [
      "Timestamp\n",
      "Ви працюєте зараз в ІТ?\n",
      "Де ви зараз живете? \n",
      "Ваша стать\n",
      "Ваш вік\n",
      "Яка у вас освіта?\n",
      "Знання англійської мови\n",
      "Оберіть вашу посаду\n",
      "Ваш тайтл\n",
      "В якій сфері працюєте?\n",
      "Тип компанії\n",
      "Загальний стаж роботи за спеціальністю\n"
     ]
    }
   ],
   "source": [
    "df_na = df.isna().sum()\n",
    "for x, y in  df_na.items():\n",
    "    if y == 0:\n",
    "       print(x)\n"
   ]
  },
  {
   "cell_type": "code",
   "execution_count": null,
   "id": "92b6531b-87da-4abe-9cd9-1c6b0569d037",
   "metadata": {},
   "outputs": [],
   "source": []
  },
  {
   "cell_type": "markdown",
   "id": "2e6a2867",
   "metadata": {
    "ExecuteTime": {
     "end_time": "2023-07-06T10:56:38.046761Z",
     "start_time": "2023-07-06T10:56:38.038875Z"
    }
   },
   "source": [
    "5. Який тип мають колонки в наборі даних? Які з колонок типу object логічно на ваш погляд перетворити на числові колонки?"
   ]
  },
  {
   "cell_type": "code",
   "execution_count": 24,
   "id": "3915a5f8",
   "metadata": {},
   "outputs": [
    {
     "name": "stdout",
     "output_type": "stream",
     "text": [
      "Timestamp                                                                     object\n",
      "Ви працюєте зараз в ІТ?                                                       object\n",
      "Де ви зараз живете?                                                           object\n",
      "В якій області ви зараз живете?                                               object\n",
      "Зарплата у $$$ за місяць, лише ставка після сплати податків                   object\n",
      "Ваша стать                                                                    object\n",
      "Ваш вік                                                                       object\n",
      "Яка у вас освіта?                                                             object\n",
      "Чи є у вас науковий ступінь?                                                  object\n",
      "Знання англійської мови                                                       object\n",
      "Оберіть вашу посаду                                                           object\n",
      "Ваш тайтл                                                                     object\n",
      "Ваша спеціалізація                                                            object\n",
      "Вкажіть вашу спеціалізацію                                                    object\n",
      "Оберіть вашу спеціалізацію                                                    object\n",
      "Ваша посада                                                                   object\n",
      "Оберіть вашу посаду2                                                          object\n",
      "Ваша посада3                                                                  object\n",
      "Ваша посада4                                                                  object\n",
      "Ваша посада5                                                                  object\n",
      "Ваша посада6                                                                  object\n",
      "Ваша посада7                                                                  object\n",
      "Чи використовуєте ви у своїй роботі мови програмування (одну чи декілька)?    object\n",
      "Основна мова програмування                                                    object\n",
      "Вкажіть вашу основну спеціалізацію                                            object\n",
      "В якій сфері працюєте?                                                        object\n",
      "Тип компанії                                                                  object\n",
      "Загальний стаж роботи за спеціальністю                                        object\n",
      "dtype: object\n"
     ]
    }
   ],
   "source": [
    "print(df.dtypes)"
   ]
  },
  {
   "cell_type": "markdown",
   "id": "3da64e75",
   "metadata": {},
   "source": [
    "6. Трансформуйте колонки 'Ваш вік', 'Зарплата у $$$ за місяць, лише ставка після сплати податків' у тип даних float. УВАГА! Перед трансформацією подивіться, які дані містять ці колонки. Аби успішно трансформувати тип даних, треба спочатку привести рядки до того виду, який буде підходити, аби потім рядок зробити типом float."
   ]
  },
  {
   "cell_type": "code",
   "execution_count": 25,
   "id": "a943e637-d02e-4f06-b22b-3094f4a79065",
   "metadata": {},
   "outputs": [],
   "source": [
    "df['Ваш вік'] = df['Ваш вік'].apply(lambda x: x.replace(',', '.')).astype('float');"
   ]
  },
  {
   "cell_type": "code",
   "execution_count": 26,
   "id": "e594bfd5-adb1-4887-a667-420da82ed0c4",
   "metadata": {},
   "outputs": [],
   "source": [
    "df['Зарплата у $$$ за місяць, лише ставка після сплати податків'].fillna('0', inplace = True)\n",
    "df['Зарплата у $$$ за місяць, лише ставка після сплати податків'] = df['Зарплата у $$$ за місяць, лише ставка після сплати податків'].apply(lambda x: x.replace(',','.')).astype('float');\n"
   ]
  },
  {
   "cell_type": "code",
   "execution_count": null,
   "id": "fe4f4b9c-ddd4-4803-94a0-6dddaa4e76df",
   "metadata": {},
   "outputs": [],
   "source": [
    "#df['Зарплата у $$$ за місяць, лише ставка після сплати податків'].unique()"
   ]
  },
  {
   "cell_type": "markdown",
   "id": "9c4181cb",
   "metadata": {
    "ExecuteTime": {
     "end_time": "2023-07-06T11:36:23.006200Z",
     "start_time": "2023-07-06T11:36:22.975108Z"
    }
   },
   "source": [
    "7. Це завдання з зірочкою! Нам треба транфсформувати колонку Timestamp у тип даних `datetime64[ns]`. Це не так просто як здається на першйий погляд :) Але це реальна ситуація, яка може трапитись при зборі даних в роботі аналітиком.\n",
    "Я запропоную один зі способів виконати завдання, але ви можете написати по-своєму. Головне - отримати колонку - потрібного типу. \n",
    "Пропоную наступний алгоритм дій:\n",
    "    1. Подивитись, які дані містяться в цій колонці. Виведіть перші і останні 5 записів. Чи однаковий формат цих даних? (спойлер: ні, бо інакше все було б просто :))\n",
    "    2. Нам треба враховуючи різний формат даних перетворити рядок у колонці `Timestamp` на тип `datetime64[ns]`. Як це зробити? Для перетворення рядка на `datetime64` пропоную скористатись `datetime.datetime.strptime`.\n",
    "    Для цього треба імпортувати бібліотеку `datetime`. Я пропоную написати функцію для обробки кожного окремого рядка, яка враховує довжину рядка і на основі цього застосовує різний формат даних дати.\n",
    "    Як прописувати формат даних можна переглянути [тут](https://www.w3schools.com/python/python_datetime.asp).\n",
    "    3. Коли функція для обробки кожного окремого рядка готова, застосуйте її для всіх даних з допомогою методу `apply`."
   ]
  },
  {
   "cell_type": "code",
   "execution_count": 27,
   "id": "c3bcbd33",
   "metadata": {},
   "outputs": [
    {
     "data": {
      "text/plain": [
       "0        11.30.2022 10:26:37\n",
       "1        11.30.2022 10:26:39\n",
       "2        11.30.2022 10:26:58\n",
       "3        11.30.2022 10:27:31\n",
       "4        11.30.2022 10:27:34\n",
       "                ...         \n",
       "13310       01.09.2023 11:01\n",
       "13311       01.09.2023 11:14\n",
       "13312       01.09.2023 11:19\n",
       "13313       01.09.2023 11:28\n",
       "13314       01.09.2023 11:38\n",
       "Name: Timestamp, Length: 13315, dtype: object"
      ]
     },
     "metadata": {},
     "output_type": "display_data"
    }
   ],
   "source": [
    "from datetime import datetime\n",
    "display(df.Timestamp)"
   ]
  },
  {
   "cell_type": "code",
   "execution_count": null,
   "id": "48fe84d2-ed0b-4d03-98fe-7754aa9c94c4",
   "metadata": {},
   "outputs": [],
   "source": []
  },
  {
   "cell_type": "code",
   "execution_count": 28,
   "id": "c5c2fdf0-c85f-4cdb-b121-1eb9aaeaed7b",
   "metadata": {},
   "outputs": [],
   "source": [
    "def func_time(str_time:str):\n",
    "    if len(str_time) == 18:\n",
    "        str_time =' 0'.join(str_time.split(' '))\n",
    "    else:\n",
    "        if len(str_time) == 16:\n",
    "           str_time = ':'.join([str_time,'00'])\n",
    "       \n",
    "    return datetime.strptime (str_time,\"%m.%d.%Y %H:%M:%S\")\n",
    "   \n"
   ]
  },
  {
   "cell_type": "code",
   "execution_count": null,
   "id": "7ebe922e-538d-4157-9b27-3e48599b4d05",
   "metadata": {},
   "outputs": [],
   "source": []
  },
  {
   "cell_type": "code",
   "execution_count": 29,
   "id": "aa4d2df0-3aa0-4358-b84f-99ade4e74cec",
   "metadata": {},
   "outputs": [
    {
     "data": {
      "text/plain": [
       "0       2022-11-30 10:26:37\n",
       "1       2022-11-30 10:26:39\n",
       "2       2022-11-30 10:26:58\n",
       "3       2022-11-30 10:27:31\n",
       "4       2022-11-30 10:27:34\n",
       "                ...        \n",
       "13310   2023-01-09 11:01:00\n",
       "13311   2023-01-09 11:14:00\n",
       "13312   2023-01-09 11:19:00\n",
       "13313   2023-01-09 11:28:00\n",
       "13314   2023-01-09 11:38:00\n",
       "Name: Timestamp, Length: 13315, dtype: datetime64[ns]"
      ]
     },
     "metadata": {},
     "output_type": "display_data"
    }
   ],
   "source": [
    "df.Timestamp = df.Timestamp.apply(func_time)\n",
    "display(df.Timestamp)\n"
   ]
  },
  {
   "cell_type": "markdown",
   "id": "e60cd492",
   "metadata": {},
   "source": [
    "8. Для колонок типу даних object (які такими лишились після всіх наших трансформацій) виведіть кількість унікальних значень."
   ]
  },
  {
   "cell_type": "code",
   "execution_count": 30,
   "id": "c729c27d",
   "metadata": {},
   "outputs": [
    {
     "name": "stdout",
     "output_type": "stream",
     "text": [
      "Timestamp                                                                     datetime64[ns]\n",
      "Ви працюєте зараз в ІТ?                                                               object\n",
      "Де ви зараз живете?                                                                   object\n",
      "В якій області ви зараз живете?                                                       object\n",
      "Зарплата у $$$ за місяць, лише ставка після сплати податків                          float64\n",
      "Ваша стать                                                                            object\n",
      "Ваш вік                                                                              float64\n",
      "Яка у вас освіта?                                                                     object\n",
      "Чи є у вас науковий ступінь?                                                          object\n",
      "Знання англійської мови                                                               object\n",
      "Оберіть вашу посаду                                                                   object\n",
      "Ваш тайтл                                                                             object\n",
      "Ваша спеціалізація                                                                    object\n",
      "Вкажіть вашу спеціалізацію                                                            object\n",
      "Оберіть вашу спеціалізацію                                                            object\n",
      "Ваша посада                                                                           object\n",
      "Оберіть вашу посаду2                                                                  object\n",
      "Ваша посада3                                                                          object\n",
      "Ваша посада4                                                                          object\n",
      "Ваша посада5                                                                          object\n",
      "Ваша посада6                                                                          object\n",
      "Ваша посада7                                                                          object\n",
      "Чи використовуєте ви у своїй роботі мови програмування (одну чи декілька)?            object\n",
      "Основна мова програмування                                                            object\n",
      "Вкажіть вашу основну спеціалізацію                                                    object\n",
      "В якій сфері працюєте?                                                                object\n",
      "Тип компанії                                                                          object\n",
      "Загальний стаж роботи за спеціальністю                                                object\n",
      "dtype: object\n"
     ]
    }
   ],
   "source": [
    "print(df.dtypes)"
   ]
  },
  {
   "cell_type": "markdown",
   "id": "03500adf",
   "metadata": {},
   "source": [
    "9. Для колонок типу даних object виведіть топ 10 найбільш частих значень з кількістю рядків, в яких це значення зустрічається. Зробіть це для кожної колонки окремо. Наприклад, в циклі.  \n",
    "Що цікавого бачите? Які висновки можна зробити? Що особисто Вас вразило?"
   ]
  },
  {
   "cell_type": "code",
   "execution_count": 31,
   "id": "add43481",
   "metadata": {},
   "outputs": [
    {
     "data": {
      "text/plain": [
       "Ви працюєте зараз в ІТ?\n",
       "Так, працюю full-time      12643\n",
       "Ні, тимчасово не працюю      380\n",
       "Так, працюю part-time        152\n",
       "Так, я фрилансер             115\n",
       "Інше                          25\n",
       "Name: count, dtype: int64"
      ]
     },
     "metadata": {},
     "output_type": "display_data"
    },
    {
     "data": {
      "text/plain": [
       "'______________________________________________________________________________________'"
      ]
     },
     "metadata": {},
     "output_type": "display_data"
    },
    {
     "data": {
      "text/plain": [
       "Де ви зараз живете? \n",
       "В Україні                                                      11587\n",
       "За кордоном (переїхали через війну, але планую повернутися)     1728\n",
       "Name: count, dtype: int64"
      ]
     },
     "metadata": {},
     "output_type": "display_data"
    },
    {
     "data": {
      "text/plain": [
       "'______________________________________________________________________________________'"
      ]
     },
     "metadata": {},
     "output_type": "display_data"
    },
    {
     "data": {
      "text/plain": [
       "В якій області ви зараз живете?\n",
       "Київ чи область                4411\n",
       "Львів чи область               2353\n",
       "Дніпро чи область               751\n",
       "Івано-Франківськ чи область     478\n",
       "Вінниця чи область              447\n",
       "Одеса чи область                443\n",
       "Харків чи область               355\n",
       "Полтава чи область              252\n",
       "Черкаси чи область              232\n",
       "Хмельницький чи область         230\n",
       "Name: count, dtype: int64"
      ]
     },
     "metadata": {},
     "output_type": "display_data"
    },
    {
     "data": {
      "text/plain": [
       "'______________________________________________________________________________________'"
      ]
     },
     "metadata": {},
     "output_type": "display_data"
    },
    {
     "data": {
      "text/plain": [
       "Ваша стать\n",
       "Чоловік    10221\n",
       "Жінка       3094\n",
       "Name: count, dtype: int64"
      ]
     },
     "metadata": {},
     "output_type": "display_data"
    },
    {
     "data": {
      "text/plain": [
       "'______________________________________________________________________________________'"
      ]
     },
     "metadata": {},
     "output_type": "display_data"
    },
    {
     "data": {
      "text/plain": [
       "Яка у вас освіта?\n",
       "Вища (бакалавр, спеціаліст, магістр)    10645\n",
       "Дві вищі                                 1002\n",
       "Ще студент вишу                           811\n",
       "Середня                                   447\n",
       "Середня спеціальна                        410\n",
       "Name: count, dtype: int64"
      ]
     },
     "metadata": {},
     "output_type": "display_data"
    },
    {
     "data": {
      "text/plain": [
       "'______________________________________________________________________________________'"
      ]
     },
     "metadata": {},
     "output_type": "display_data"
    },
    {
     "data": {
      "text/plain": [
       "Чи є у вас науковий ступінь? \n",
       "Немає                  12980\n",
       "Кандидат наук / PhD      216\n",
       "Доктор наук                8\n",
       "Name: count, dtype: int64"
      ]
     },
     "metadata": {},
     "output_type": "display_data"
    },
    {
     "data": {
      "text/plain": [
       "'______________________________________________________________________________________'"
      ]
     },
     "metadata": {},
     "output_type": "display_data"
    },
    {
     "data": {
      "text/plain": [
       "Знання англійської мови\n",
       "Upper-Intermediate    5538\n",
       "Intermediate          4475\n",
       "Advanced              1622\n",
       "Pre-Intermediate      1401\n",
       "Elementary             279\n",
       "Name: count, dtype: int64"
      ]
     },
     "metadata": {},
     "output_type": "display_data"
    },
    {
     "data": {
      "text/plain": [
       "'______________________________________________________________________________________'"
      ]
     },
     "metadata": {},
     "output_type": "display_data"
    },
    {
     "data": {
      "text/plain": [
       "Оберіть вашу посаду\n",
       "Software Engineer (Junior, Middle, Senior, Team/Tech Lead, Architect)             6773\n",
       "QA Engineer (Junior, Middle, Senior, Team/Tech Lead, Manager)                     2364\n",
       "Project/Product/Program Manager, Product Owner, Scrum Master, Delivery Manager     821\n",
       "HR/Recruiter                                                                       560\n",
       "Designer / Artist (Graphic, UX/UI, Game, Artist, Sound etc.)                       486\n",
       "Analyst (Business, Data, System)                                                   485\n",
       "DevOps, SRE                                                                        353\n",
       "Marketing, SEO, Copywriter                                                         305\n",
       "Data Science, Machine Learning, Big Data                                           288\n",
       "Game Developer / Programmer                                                        160\n",
       "Name: count, dtype: int64"
      ]
     },
     "metadata": {},
     "output_type": "display_data"
    },
    {
     "data": {
      "text/plain": [
       "'______________________________________________________________________________________'"
      ]
     },
     "metadata": {},
     "output_type": "display_data"
    },
    {
     "data": {
      "text/plain": [
       "Ваш тайтл\n",
       "Middle            4710\n",
       "Senior            3400\n",
       "Junior            2316\n",
       "Team Lead          883\n",
       "Немає тайтлу       571\n",
       "Tech Lead          430\n",
       "Manager            375\n",
       "Head               250\n",
       "Intern/Trainee     240\n",
       "Architect          140\n",
       "Name: count, dtype: int64"
      ]
     },
     "metadata": {},
     "output_type": "display_data"
    },
    {
     "data": {
      "text/plain": [
       "'______________________________________________________________________________________'"
      ]
     },
     "metadata": {},
     "output_type": "display_data"
    },
    {
     "data": {
      "text/plain": [
       "Ваша спеціалізація\n",
       "Programmer                       89\n",
       "Gameplay Programmer              42\n",
       "Engine Programmer                 8\n",
       ".NET Programmer                   6\n",
       "Ul Programmer                     4\n",
       "Rendering/Graphics Programmer     4\n",
       "Al Programmer                     3\n",
       "Інше                              3\n",
       "Name: count, dtype: int64"
      ]
     },
     "metadata": {},
     "output_type": "display_data"
    },
    {
     "data": {
      "text/plain": [
       "'______________________________________________________________________________________'"
      ]
     },
     "metadata": {},
     "output_type": "display_data"
    },
    {
     "data": {
      "text/plain": [
       "Вкажіть вашу спеціалізацію\n",
       "Manual QA         1467\n",
       "Automation QA      531\n",
       "General QA         354\n",
       "Performance QA      12\n",
       "Name: count, dtype: int64"
      ]
     },
     "metadata": {},
     "output_type": "display_data"
    },
    {
     "data": {
      "text/plain": [
       "'______________________________________________________________________________________'"
      ]
     },
     "metadata": {},
     "output_type": "display_data"
    },
    {
     "data": {
      "text/plain": [
       "Оберіть вашу спеціалізацію\n",
       "UI/UX Designer              201\n",
       "Product Designer             60\n",
       "3D Artist                    40\n",
       "2D Artist                    35\n",
       "Graphic / Video Designer     33\n",
       "Game Designer                20\n",
       "Designer                     15\n",
       "Animator                     14\n",
       "Other                        12\n",
       "Web Designer                 11\n",
       "Name: count, dtype: int64"
      ]
     },
     "metadata": {},
     "output_type": "display_data"
    },
    {
     "data": {
      "text/plain": [
       "'______________________________________________________________________________________'"
      ]
     },
     "metadata": {},
     "output_type": "display_data"
    },
    {
     "data": {
      "text/plain": [
       "Ваша посада\n",
       "Other                            44\n",
       "Marketing Manager                44\n",
       "SEO Specialist                   34\n",
       "Digital Marketing Manager        33\n",
       "Copywriter                       27\n",
       "Chief Marketing Officer (CMO)    22\n",
       "Employer Brand Manager           20\n",
       "SMM Manager                      20\n",
       "PR Manager                       16\n",
       "Product Marketing Manager        11\n",
       "Name: count, dtype: int64"
      ]
     },
     "metadata": {},
     "output_type": "display_data"
    },
    {
     "data": {
      "text/plain": [
       "'______________________________________________________________________________________'"
      ]
     },
     "metadata": {},
     "output_type": "display_data"
    },
    {
     "data": {
      "text/plain": [
       "Оберіть вашу посаду2\n",
       "Recruiter                             201\n",
       "HR Manager                            131\n",
       "Talent Acquisition Manager             52\n",
       "Talent Researcher/Sourcer              51\n",
       "HR Director                            45\n",
       "HR Business Partner                    40\n",
       "People partner / Happiness manager     40\n",
       "Name: count, dtype: int64"
      ]
     },
     "metadata": {},
     "output_type": "display_data"
    },
    {
     "data": {
      "text/plain": [
       "'______________________________________________________________________________________'"
      ]
     },
     "metadata": {},
     "output_type": "display_data"
    },
    {
     "data": {
      "text/plain": [
       "Ваша посада3\n",
       "Project Manager     443\n",
       "Product Manager     135\n",
       "Delivery Manager     88\n",
       "Product Owner        67\n",
       "Scrum Master         42\n",
       "Program Manager      29\n",
       "Business Manager     17\n",
       "Name: count, dtype: int64"
      ]
     },
     "metadata": {},
     "output_type": "display_data"
    },
    {
     "data": {
      "text/plain": [
       "'______________________________________________________________________________________'"
      ]
     },
     "metadata": {},
     "output_type": "display_data"
    },
    {
     "data": {
      "text/plain": [
       "Ваша посада4\n",
       "Business Analyst    289\n",
       "Data Analyst        106\n",
       "Product Analyst      34\n",
       "System Analyst       32\n",
       "BI Analyst           24\n",
       "Name: count, dtype: int64"
      ]
     },
     "metadata": {},
     "output_type": "display_data"
    },
    {
     "data": {
      "text/plain": [
       "'______________________________________________________________________________________'"
      ]
     },
     "metadata": {},
     "output_type": "display_data"
    },
    {
     "data": {
      "text/plain": [
       "Ваша посада5\n",
       "Data Engineer / Big Data Engineer    104\n",
       "Data Scientist                        93\n",
       "Machine Learning Engineer             46\n",
       "Computer Vision Engineer              21\n",
       "Research Engineer                     15\n",
       "BI Engineer                            9\n",
       "Name: count, dtype: int64"
      ]
     },
     "metadata": {},
     "output_type": "display_data"
    },
    {
     "data": {
      "text/plain": [
       "'______________________________________________________________________________________'"
      ]
     },
     "metadata": {},
     "output_type": "display_data"
    },
    {
     "data": {
      "text/plain": [
       "Ваша посада6\n",
       "DevOps Engineer              325\n",
       "Site Reliability Engineer     28\n",
       "Name: count, dtype: int64"
      ]
     },
     "metadata": {},
     "output_type": "display_data"
    },
    {
     "data": {
      "text/plain": [
       "'______________________________________________________________________________________'"
      ]
     },
     "metadata": {},
     "output_type": "display_data"
    },
    {
     "data": {
      "text/plain": [
       "Ваша посада7\n",
       "CTO                        41\n",
       "Director of Engineering    33\n",
       "CEO, (co-) founder         28\n",
       "Program Director           14\n",
       "Name: count, dtype: int64"
      ]
     },
     "metadata": {},
     "output_type": "display_data"
    },
    {
     "data": {
      "text/plain": [
       "'______________________________________________________________________________________'"
      ]
     },
     "metadata": {},
     "output_type": "display_data"
    },
    {
     "data": {
      "text/plain": [
       "Чи використовуєте ви у своїй роботі мови програмування (одну чи декілька)?\n",
       "Ні, не використовую    2754\n",
       "Так, використовую      2120\n",
       "Name: count, dtype: int64"
      ]
     },
     "metadata": {},
     "output_type": "display_data"
    },
    {
     "data": {
      "text/plain": [
       "'______________________________________________________________________________________'"
      ]
     },
     "metadata": {},
     "output_type": "display_data"
    },
    {
     "data": {
      "text/plain": [
       "Основна мова програмування\n",
       "JavaScript    1695\n",
       "Java          1241\n",
       "Python        1190\n",
       "TypeScript    1179\n",
       "C# / .NET     1179\n",
       "PHP            627\n",
       "Kotlin         286\n",
       "C++            251\n",
       "Swift          221\n",
       "SQL            201\n",
       "Name: count, dtype: int64"
      ]
     },
     "metadata": {},
     "output_type": "display_data"
    },
    {
     "data": {
      "text/plain": [
       "'______________________________________________________________________________________'"
      ]
     },
     "metadata": {},
     "output_type": "display_data"
    },
    {
     "data": {
      "text/plain": [
       "Вкажіть вашу основну спеціалізацію\n",
       "Back-end  розробка               2847\n",
       "Full Stack розробка              1628\n",
       "Front-end  розробка              1628\n",
       "QA                               1079\n",
       "Mobile  розробка                  665\n",
       "Робота з даними, аналіз даних     558\n",
       "DevOps                            308\n",
       "Інше                              293\n",
       "Embedded                           49\n",
       "embedded                            2\n",
       "Name: count, dtype: int64"
      ]
     },
     "metadata": {},
     "output_type": "display_data"
    },
    {
     "data": {
      "text/plain": [
       "'______________________________________________________________________________________'"
      ]
     },
     "metadata": {},
     "output_type": "display_data"
    },
    {
     "data": {
      "text/plain": [
       "В якій сфері працюєте?\n",
       "Інша                    1445\n",
       "E-commerce              1243\n",
       "Fintech / Banking        942\n",
       "Medtech / Healthcare     547\n",
       "GameDev                  449\n",
       "Gambling                 352\n",
       "Edtech / Education       250\n",
       "Telecom                  232\n",
       "Mobile                   200\n",
       "Adtech / Advertising     193\n",
       "Name: count, dtype: int64"
      ]
     },
     "metadata": {},
     "output_type": "display_data"
    },
    {
     "data": {
      "text/plain": [
       "'______________________________________________________________________________________'"
      ]
     },
     "metadata": {},
     "output_type": "display_data"
    },
    {
     "data": {
      "text/plain": [
       "Тип компанії\n",
       "Аутсорсингова    5593\n",
       "Продуктова       4940\n",
       "Аутстафінгова    1767\n",
       "Стартап           539\n",
       "Інша              355\n",
       "Фріланс           121\n",
       "Name: count, dtype: int64"
      ]
     },
     "metadata": {},
     "output_type": "display_data"
    },
    {
     "data": {
      "text/plain": [
       "'______________________________________________________________________________________'"
      ]
     },
     "metadata": {},
     "output_type": "display_data"
    },
    {
     "data": {
      "text/plain": [
       "Загальний стаж роботи за спеціальністю\n",
       "3 роки               1608\n",
       "4 роки               1447\n",
       "2 роки               1427\n",
       "5 років              1351\n",
       "1,5 року             1056\n",
       "6 років               982\n",
       "1 рік                 922\n",
       "7 років               791\n",
       "10 років              599\n",
       "15 і більше років     586\n",
       "Name: count, dtype: int64"
      ]
     },
     "metadata": {},
     "output_type": "display_data"
    },
    {
     "data": {
      "text/plain": [
       "'______________________________________________________________________________________'"
      ]
     },
     "metadata": {},
     "output_type": "display_data"
    }
   ],
   "source": [
    "for el in df.columns:\n",
    "    if df.dtypes[el] == 'object':\n",
    "        display(df[el].value_counts().sort_values(ascending=False)[:10])\n",
    "        display('______________________________________________________________________________________')"
   ]
  },
  {
   "cell_type": "markdown",
   "id": "35cf7d10",
   "metadata": {},
   "source": [
    "10. Виведіть медіанну (медіана - це значення, менше якого є рівно 50% вибірки і більше якого є теж рівно 50% вибірки)\n",
    "ЗП (Зарплата у $$$) для кожного рівня знання англійської. Які висновки можна зробити?"
   ]
  },
  {
   "cell_type": "code",
   "execution_count": 32,
   "id": "62e17c84",
   "metadata": {},
   "outputs": [
    {
     "data": {
      "text/plain": [
       "Знання англійської мови\n",
       "Advanced              3827.973200\n",
       "Elementary            1546.985663\n",
       "Intermediate          2513.998845\n",
       "Pre-Intermediate      1827.404283\n",
       "Upper-Intermediate    3533.794330\n",
       "Name: Зарплата у $$$ за місяць, лише ставка після сплати податків, dtype: float64"
      ]
     },
     "execution_count": 32,
     "metadata": {},
     "output_type": "execute_result"
    }
   ],
   "source": [
    "df.groupby('Знання англійської мови')['Зарплата у $$$ за місяць, лише ставка після сплати податків'].mean()"
   ]
  },
  {
   "cell_type": "markdown",
   "id": "0992c456",
   "metadata": {
    "ExecuteTime": {
     "end_time": "2023-07-06T11:56:25.250162Z",
     "start_time": "2023-07-06T11:56:25.244477Z"
    }
   },
   "source": [
    "11. Є така штука як сортування значень категоріальної змінної. Нам це зараз стане в нагоді, адже рівні англійської можна посортувати. \n",
    "Давайте відсотруємо рівні англ. і тайтли. Просто запустіть код нижче і проаналізуйте, що він робить."
   ]
  },
  {
   "cell_type": "code",
   "execution_count": 33,
   "id": "daa45b42",
   "metadata": {},
   "outputs": [],
   "source": [
    "df['Знання англійської мови'] = pd.Categorical(df['Знання англійської мови'], \n",
    "                      categories=['Elementary','Pre-Intermediate','Intermediate','Upper-Intermediate','Advanced'],\n",
    "                      ordered=True)\n",
    "\n",
    "df['Ваш тайтл'] = pd.Categorical(df['Ваш тайтл'], \n",
    "                      categories=['Intern/Trainee', 'Junior', 'Немає тайтлу', 'Middle', 'Senior', 'Tech Lead', 'Team Lead', 'Architect', 'Head', 'Manager'],\n",
    "                      ordered=True)"
   ]
  },
  {
   "cell_type": "markdown",
   "id": "d055e149",
   "metadata": {
    "ExecuteTime": {
     "end_time": "2023-07-06T11:52:57.539571Z",
     "start_time": "2023-07-06T11:52:57.535277Z"
    }
   },
   "source": [
    "12. Зробіть зводну таблицю, де стовпці - це 'Ваш тайтл', рядки - 'Знання англійської мови', а значення - медіанна ЗП. Які висновки можна зробити?\n",
    "Тут ще для зручності можна зробити градієнтне забарвлення і відформатувати значення для легшого перегляду."
   ]
  },
  {
   "cell_type": "code",
   "execution_count": 34,
   "id": "07f4702e",
   "metadata": {},
   "outputs": [
    {
     "data": {
      "text/html": [
       "<div>\n",
       "<style scoped>\n",
       "    .dataframe tbody tr th:only-of-type {\n",
       "        vertical-align: middle;\n",
       "    }\n",
       "\n",
       "    .dataframe tbody tr th {\n",
       "        vertical-align: top;\n",
       "    }\n",
       "\n",
       "    .dataframe thead tr th {\n",
       "        text-align: left;\n",
       "    }\n",
       "\n",
       "    .dataframe thead tr:last-of-type th {\n",
       "        text-align: right;\n",
       "    }\n",
       "</style>\n",
       "<table border=\"1\" class=\"dataframe\">\n",
       "  <thead>\n",
       "    <tr>\n",
       "      <th></th>\n",
       "      <th colspan=\"10\" halign=\"left\">Зарплата у $$$ за місяць, лише ставка після сплати податків</th>\n",
       "    </tr>\n",
       "    <tr>\n",
       "      <th>Ваш тайтл</th>\n",
       "      <th>Intern/Trainee</th>\n",
       "      <th>Junior</th>\n",
       "      <th>Немає тайтлу</th>\n",
       "      <th>Middle</th>\n",
       "      <th>Senior</th>\n",
       "      <th>Tech Lead</th>\n",
       "      <th>Team Lead</th>\n",
       "      <th>Architect</th>\n",
       "      <th>Head</th>\n",
       "      <th>Manager</th>\n",
       "    </tr>\n",
       "    <tr>\n",
       "      <th>Знання англійської мови</th>\n",
       "      <th></th>\n",
       "      <th></th>\n",
       "      <th></th>\n",
       "      <th></th>\n",
       "      <th></th>\n",
       "      <th></th>\n",
       "      <th></th>\n",
       "      <th></th>\n",
       "      <th></th>\n",
       "      <th></th>\n",
       "    </tr>\n",
       "  </thead>\n",
       "  <tbody>\n",
       "    <tr>\n",
       "      <th>Elementary</th>\n",
       "      <td>643.750000</td>\n",
       "      <td>780.652174</td>\n",
       "      <td>941.171429</td>\n",
       "      <td>1741.564103</td>\n",
       "      <td>3020.724138</td>\n",
       "      <td>5000.000000</td>\n",
       "      <td>2689.083333</td>\n",
       "      <td>NaN</td>\n",
       "      <td>1566.666667</td>\n",
       "      <td>1264.000000</td>\n",
       "    </tr>\n",
       "    <tr>\n",
       "      <th>Pre-Intermediate</th>\n",
       "      <td>452.607843</td>\n",
       "      <td>845.479621</td>\n",
       "      <td>1340.421053</td>\n",
       "      <td>1948.425129</td>\n",
       "      <td>3485.138889</td>\n",
       "      <td>3648.600000</td>\n",
       "      <td>3285.000000</td>\n",
       "      <td>2907.5000</td>\n",
       "      <td>3133.333333</td>\n",
       "      <td>1836.214286</td>\n",
       "    </tr>\n",
       "    <tr>\n",
       "      <th>Intermediate</th>\n",
       "      <td>457.600000</td>\n",
       "      <td>973.613113</td>\n",
       "      <td>1989.105263</td>\n",
       "      <td>2322.011555</td>\n",
       "      <td>4160.372363</td>\n",
       "      <td>4924.727273</td>\n",
       "      <td>3864.982063</td>\n",
       "      <td>5643.1250</td>\n",
       "      <td>3661.338983</td>\n",
       "      <td>2710.666667</td>\n",
       "    </tr>\n",
       "    <tr>\n",
       "      <th>Upper-Intermediate</th>\n",
       "      <td>512.913793</td>\n",
       "      <td>1035.041979</td>\n",
       "      <td>2171.305405</td>\n",
       "      <td>2648.507034</td>\n",
       "      <td>4833.935618</td>\n",
       "      <td>5719.720307</td>\n",
       "      <td>4503.316964</td>\n",
       "      <td>6585.3125</td>\n",
       "      <td>4333.178947</td>\n",
       "      <td>3860.177215</td>\n",
       "    </tr>\n",
       "    <tr>\n",
       "      <th>Advanced</th>\n",
       "      <td>856.944444</td>\n",
       "      <td>1093.056604</td>\n",
       "      <td>2909.096774</td>\n",
       "      <td>2662.785099</td>\n",
       "      <td>4881.596916</td>\n",
       "      <td>6134.464789</td>\n",
       "      <td>4798.580420</td>\n",
       "      <td>7209.5000</td>\n",
       "      <td>5277.884615</td>\n",
       "      <td>4185.184341</td>\n",
       "    </tr>\n",
       "  </tbody>\n",
       "</table>\n",
       "</div>"
      ],
      "text/plain": [
       "                        Зарплата у $$$ за місяць, лише ставка після сплати податків  \\\n",
       "Ваш тайтл                                                            Intern/Trainee   \n",
       "Знання англійської мови                                                               \n",
       "Elementary                                                      643.750000            \n",
       "Pre-Intermediate                                                452.607843            \n",
       "Intermediate                                                    457.600000            \n",
       "Upper-Intermediate                                              512.913793            \n",
       "Advanced                                                        856.944444            \n",
       "\n",
       "                                                                             \\\n",
       "Ваш тайтл                     Junior Немає тайтлу       Middle       Senior   \n",
       "Знання англійської мови                                                       \n",
       "Elementary                780.652174   941.171429  1741.564103  3020.724138   \n",
       "Pre-Intermediate          845.479621  1340.421053  1948.425129  3485.138889   \n",
       "Intermediate              973.613113  1989.105263  2322.011555  4160.372363   \n",
       "Upper-Intermediate       1035.041979  2171.305405  2648.507034  4833.935618   \n",
       "Advanced                 1093.056604  2909.096774  2662.785099  4881.596916   \n",
       "\n",
       "                                                                           \\\n",
       "Ваш тайтл                  Tech Lead    Team Lead  Architect         Head   \n",
       "Знання англійської мови                                                     \n",
       "Elementary               5000.000000  2689.083333        NaN  1566.666667   \n",
       "Pre-Intermediate         3648.600000  3285.000000  2907.5000  3133.333333   \n",
       "Intermediate             4924.727273  3864.982063  5643.1250  3661.338983   \n",
       "Upper-Intermediate       5719.720307  4503.316964  6585.3125  4333.178947   \n",
       "Advanced                 6134.464789  4798.580420  7209.5000  5277.884615   \n",
       "\n",
       "                                      \n",
       "Ваш тайтл                    Manager  \n",
       "Знання англійської мови               \n",
       "Elementary               1264.000000  \n",
       "Pre-Intermediate         1836.214286  \n",
       "Intermediate             2710.666667  \n",
       "Upper-Intermediate       3860.177215  \n",
       "Advanced                 4185.184341  "
      ]
     },
     "execution_count": 34,
     "metadata": {},
     "output_type": "execute_result"
    }
   ],
   "source": [
    "pivot = df.pivot_table(index=['Знання англійської мови'],columns=['Ваш тайтл'], values=['Зарплата у $$$ за місяць, лише ставка після сплати податків'], aggfunc= 'mean', observed = True)\n",
    "pivot"
   ]
  },
  {
   "cell_type": "markdown",
   "id": "b195369f-bc4c-4adc-abc5-b31aad52a043",
   "metadata": {},
   "source": [
    "Як бачимо, що рівень англійської мови на пряму впливає на рівень ЗП. І тим більше, чим вище рівень знання іноземної мови.\n"
   ]
  },
  {
   "cell_type": "markdown",
   "id": "edbb7046",
   "metadata": {},
   "source": [
    "13. Виведіть результат методу describe() для топ 5 за частотою зустрічання в даних областей (В якій області ви зараз живете?). Зробіть висновки, де вигідніше жити з точки зору ЗП і чи суттєва різниця на Ваш погляд для прийняття рішення про переїзд?"
   ]
  },
  {
   "cell_type": "code",
   "execution_count": 35,
   "id": "96f7d7d9",
   "metadata": {
    "scrolled": true
   },
   "outputs": [
    {
     "name": "stdout",
     "output_type": "stream",
     "text": [
      "Київ чи область\n"
     ]
    },
    {
     "data": {
      "text/plain": [
       "count     4411.000000\n",
       "mean      3141.810209\n",
       "std       2039.859712\n",
       "min         80.000000\n",
       "25%       1500.000000\n",
       "50%       2800.000000\n",
       "75%       4500.000000\n",
       "max      16000.000000\n",
       "Name: Зарплата у $$$ за місяць, лише ставка після сплати податків, dtype: float64"
      ]
     },
     "metadata": {},
     "output_type": "display_data"
    },
    {
     "data": {
      "text/plain": [
       "'______________________________________________________________________________________'"
      ]
     },
     "metadata": {},
     "output_type": "display_data"
    },
    {
     "name": "stdout",
     "output_type": "stream",
     "text": [
      "Львів чи область\n"
     ]
    },
    {
     "data": {
      "text/plain": [
       "count     2353.000000\n",
       "mean      3121.441751\n",
       "std       2102.721295\n",
       "min        150.000000\n",
       "25%       1375.000000\n",
       "50%       2700.000000\n",
       "75%       4500.000000\n",
       "max      14000.000000\n",
       "Name: Зарплата у $$$ за місяць, лише ставка після сплати податків, dtype: float64"
      ]
     },
     "metadata": {},
     "output_type": "display_data"
    },
    {
     "data": {
      "text/plain": [
       "'______________________________________________________________________________________'"
      ]
     },
     "metadata": {},
     "output_type": "display_data"
    },
    {
     "name": "stdout",
     "output_type": "stream",
     "text": [
      "Дніпро чи область\n"
     ]
    },
    {
     "data": {
      "text/plain": [
       "count      751.000000\n",
       "mean      2582.584554\n",
       "std       1864.711284\n",
       "min        100.000000\n",
       "25%       1025.000000\n",
       "50%       2000.000000\n",
       "75%       3600.000000\n",
       "max      12000.000000\n",
       "Name: Зарплата у $$$ за місяць, лише ставка після сплати податків, dtype: float64"
      ]
     },
     "metadata": {},
     "output_type": "display_data"
    },
    {
     "data": {
      "text/plain": [
       "'______________________________________________________________________________________'"
      ]
     },
     "metadata": {},
     "output_type": "display_data"
    },
    {
     "name": "stdout",
     "output_type": "stream",
     "text": [
      "Івано-Франківськ чи область\n"
     ]
    },
    {
     "data": {
      "text/plain": [
       "count      478.000000\n",
       "mean      2705.257322\n",
       "std       1905.673385\n",
       "min        200.000000\n",
       "25%       1200.000000\n",
       "50%       2372.500000\n",
       "75%       3775.000000\n",
       "max      12436.000000\n",
       "Name: Зарплата у $$$ за місяць, лише ставка після сплати податків, dtype: float64"
      ]
     },
     "metadata": {},
     "output_type": "display_data"
    },
    {
     "data": {
      "text/plain": [
       "'______________________________________________________________________________________'"
      ]
     },
     "metadata": {},
     "output_type": "display_data"
    },
    {
     "name": "stdout",
     "output_type": "stream",
     "text": [
      "Вінниця чи область\n"
     ]
    },
    {
     "data": {
      "text/plain": [
       "count      447.000000\n",
       "mean      2888.306085\n",
       "std       1902.668331\n",
       "min        100.000000\n",
       "25%       1300.000000\n",
       "50%       2612.000000\n",
       "75%       4100.000000\n",
       "max      11675.000000\n",
       "Name: Зарплата у $$$ за місяць, лише ставка після сплати податків, dtype: float64"
      ]
     },
     "metadata": {},
     "output_type": "display_data"
    },
    {
     "data": {
      "text/plain": [
       "'______________________________________________________________________________________'"
      ]
     },
     "metadata": {},
     "output_type": "display_data"
    }
   ],
   "source": [
    "top_district = df['В якій області ви зараз живете?'].value_counts().sort_values(ascending=False)[:5]\n",
    "for el in top_district.index:\n",
    "    print (el)\n",
    "    display(df[df['В якій області ви зараз живете?'] == el]['Зарплата у $$$ за місяць, лише ставка після сплати податків'].describe())\n",
    "    display('______________________________________________________________________________________')\n",
    "     "
   ]
  },
  {
   "cell_type": "markdown",
   "id": "ec0c1590-a9f4-4d3b-94ca-57cc474b0de5",
   "metadata": {},
   "source": [
    "Якщо проаналізувати топ-5 областей, то можна виділити 2 групи.До першої групи включимо лідерів відбору, тобто Київську область та Львівську, а до другої - усіх інших. Я вважаю, що проживання в областях з одної групи не впливає на рівень ЗП суттєво, але різниться серед груп."
   ]
  },
  {
   "cell_type": "markdown",
   "id": "3bc4a018",
   "metadata": {},
   "source": [
    "14. Як зростає зарплата з роками? Для цього нам треба відформатувати колонку \"Загальний стаж роботи за спеціальністю\" аналогічно до того, як ми це робили для колонки 'Знання англійської мови' і потім вивести медіанні значення для кількості років стажу."
   ]
  },
  {
   "cell_type": "code",
   "execution_count": 48,
   "id": "20c1b2eb",
   "metadata": {},
   "outputs": [],
   "source": [
    "cat_order = ['Менше як 3 місяці', '3 місяці', 'Пів року', '1 рік', '1,5 року', '2 роки', '3 роки', '4 роки', '5 років', '6 років', '7 років', '8 років', '9 років', '10 років', '11 років', '12 років', '13 років', '14 років', '15 і більше років']\n",
    "\n",
    "df['Загальний стаж роботи за спеціальністю'] = pd.Categorical(df['Загальний стаж роботи за спеціальністю'], \n",
    "                      categories = cat_order,\n",
    "                      ordered=True)        "
   ]
  },
  {
   "cell_type": "code",
   "execution_count": 57,
   "id": "2847598f-be32-4c80-9cd2-acc0bbcb0377",
   "metadata": {},
   "outputs": [
    {
     "data": {
      "text/plain": [
       "Загальний стаж роботи за спеціальністю\n",
       "Менше як 3 місяці    1706.165346\n",
       "3 місяці              848.613924\n",
       "Пів року             1010.133479\n",
       "1 рік                1164.144252\n",
       "1,5 року             1371.343892\n",
       "2 роки               1948.502327\n",
       "3 роки               2569.888383\n",
       "4 роки               3106.604699\n",
       "5 років              3656.852702\n",
       "6 років              4043.272597\n",
       "7 років              4335.673831\n",
       "8 років              4606.463138\n",
       "9 років              4619.065476\n",
       "10 років             4502.442104\n",
       "11 років             4976.751073\n",
       "12 років             4694.373786\n",
       "13 років             4483.525773\n",
       "14 років             5240.312500\n",
       "15 і більше років    4546.844710\n",
       "Name: Зарплата у $$$ за місяць, лише ставка після сплати податків, dtype: float64"
      ]
     },
     "execution_count": 57,
     "metadata": {},
     "output_type": "execute_result"
    }
   ],
   "source": [
    "df.groupby('Загальний стаж роботи за спеціальністю', observed=False)['Зарплата у $$$ за місяць, лише ставка після сплати податків'].mean()"
   ]
  },
  {
   "cell_type": "markdown",
   "id": "a1423d54-c45b-4d5f-b56c-dc56db597321",
   "metadata": {},
   "source": [
    "Таким чином, виходить, що загалом рівень ЗП є у прямій залежності від загального стажу роботи. Окремо хочу звернути увагу, що рівень ЗП для наймолодших спеціалістів (тих, у яких стаж роботи до 3-х місяців),  значно вищий за тих,  які працювали менше 2-х років.Це може свідчити про те, що відбувся загальний ріст ЗП у галузі, а, як відомо, ріст ЗП вже зайнятих людей має наздоганяючий характер. Інший цікавий факт - це те, що рівень ЗП найдосвідченіших працівників нижчий за працівників  із 8-річним стажем. Для мене цей факт свідчить про те, що в період с 10 до 15 років відбувається певне виснаження працівників, вони більш цінують свій час і менш вмотивовані грошима,тому, можливо, не беруть додаткову роботу, наприклад."
   ]
  },
  {
   "cell_type": "markdown",
   "id": "b14a10ee",
   "metadata": {},
   "source": [
    "Далі тут можна зробити багато аналогічних агрегацій, проаналізувати, в який час люди заповнювали форму, хто більше отримує, Business Analyst, чи Data Analyst. Я вас заохочувати не стримувати свій інтерес і покапати ці дані далі :)"
   ]
  },
  {
   "cell_type": "markdown",
   "id": "de9cbae4-04dd-4fdf-9399-fef81e0c8ebc",
   "metadata": {},
   "source": [
    "Далі, наприклад, допоможемо прийняти рішення у гіпотетичній ситуації: Є людина, яка планує з мінімальними знаннями і рівнем англійської мови ('Elementary') увійти в галузь. Проаналізуємо напрямок, в якому на старті можно отримувати найбільшу ЗП."
   ]
  },
  {
   "cell_type": "code",
   "execution_count": 89,
   "id": "37cef93b-3487-4117-8526-47941f8bcf5d",
   "metadata": {},
   "outputs": [
    {
     "data": {
      "text/html": [
       "<div>\n",
       "<style scoped>\n",
       "    .dataframe tbody tr th:only-of-type {\n",
       "        vertical-align: middle;\n",
       "    }\n",
       "\n",
       "    .dataframe tbody tr th {\n",
       "        vertical-align: top;\n",
       "    }\n",
       "\n",
       "    .dataframe thead tr th {\n",
       "        text-align: left;\n",
       "    }\n",
       "\n",
       "    .dataframe thead tr:last-of-type th {\n",
       "        text-align: right;\n",
       "    }\n",
       "</style>\n",
       "<table border=\"1\" class=\"dataframe\">\n",
       "  <thead>\n",
       "    <tr>\n",
       "      <th></th>\n",
       "      <th colspan=\"3\" halign=\"left\">Зарплата у $$$ за місяць, лише ставка після сплати податків</th>\n",
       "    </tr>\n",
       "    <tr>\n",
       "      <th>Загальний стаж роботи за спеціальністю</th>\n",
       "      <th>Менше як 3 місяці</th>\n",
       "      <th>3 місяці</th>\n",
       "      <th>Пів року</th>\n",
       "    </tr>\n",
       "    <tr>\n",
       "      <th>Вкажіть вашу основну спеціалізацію</th>\n",
       "      <th></th>\n",
       "      <th></th>\n",
       "      <th></th>\n",
       "    </tr>\n",
       "  </thead>\n",
       "  <tbody>\n",
       "    <tr>\n",
       "      <th>Back-end  розробка</th>\n",
       "      <td>2573.309859</td>\n",
       "      <td>798.500000</td>\n",
       "      <td>1460.338028</td>\n",
       "    </tr>\n",
       "    <tr>\n",
       "      <th>DevOps</th>\n",
       "      <td>1150.000000</td>\n",
       "      <td>460.000000</td>\n",
       "      <td>1699.307692</td>\n",
       "    </tr>\n",
       "    <tr>\n",
       "      <th>Embedded</th>\n",
       "      <td>1200.000000</td>\n",
       "      <td>NaN</td>\n",
       "      <td>485.500000</td>\n",
       "    </tr>\n",
       "    <tr>\n",
       "      <th>Front-end  розробка</th>\n",
       "      <td>2217.017241</td>\n",
       "      <td>1100.277778</td>\n",
       "      <td>796.475410</td>\n",
       "    </tr>\n",
       "    <tr>\n",
       "      <th>Full Stack розробка</th>\n",
       "      <td>2105.510204</td>\n",
       "      <td>573.846154</td>\n",
       "      <td>704.580000</td>\n",
       "    </tr>\n",
       "    <tr>\n",
       "      <th>Mobile  розробка</th>\n",
       "      <td>2878.000000</td>\n",
       "      <td>485.714286</td>\n",
       "      <td>669.315789</td>\n",
       "    </tr>\n",
       "    <tr>\n",
       "      <th>QA</th>\n",
       "      <td>2266.521739</td>\n",
       "      <td>757.500000</td>\n",
       "      <td>1041.645161</td>\n",
       "    </tr>\n",
       "    <tr>\n",
       "      <th>Інше</th>\n",
       "      <td>830.000000</td>\n",
       "      <td>1000.000000</td>\n",
       "      <td>2070.090909</td>\n",
       "    </tr>\n",
       "    <tr>\n",
       "      <th>Робота з даними, аналіз даних</th>\n",
       "      <td>1042.619048</td>\n",
       "      <td>645.416667</td>\n",
       "      <td>1155.500000</td>\n",
       "    </tr>\n",
       "  </tbody>\n",
       "</table>\n",
       "</div>"
      ],
      "text/plain": [
       "                                       Зарплата у $$$ за місяць, лише ставка після сплати податків  \\\n",
       "Загальний стаж роботи за спеціальністю                                           Менше як 3 місяці   \n",
       "Вкажіть вашу основну спеціалізацію                                                                   \n",
       "Back-end  розробка                                                            2573.309859            \n",
       "DevOps                                                                        1150.000000            \n",
       "Embedded                                                                      1200.000000            \n",
       "Front-end  розробка                                                           2217.017241            \n",
       "Full Stack розробка                                                           2105.510204            \n",
       "Mobile  розробка                                                              2878.000000            \n",
       "QA                                                                            2266.521739            \n",
       "Інше                                                                           830.000000            \n",
       "Робота з даними, аналіз даних                                                 1042.619048            \n",
       "\n",
       "                                                                  \n",
       "Загальний стаж роботи за спеціальністю     3 місяці     Пів року  \n",
       "Вкажіть вашу основну спеціалізацію                                \n",
       "Back-end  розробка                       798.500000  1460.338028  \n",
       "DevOps                                   460.000000  1699.307692  \n",
       "Embedded                                        NaN   485.500000  \n",
       "Front-end  розробка                     1100.277778   796.475410  \n",
       "Full Stack розробка                      573.846154   704.580000  \n",
       "Mobile  розробка                         485.714286   669.315789  \n",
       "QA                                       757.500000  1041.645161  \n",
       "Інше                                    1000.000000  2070.090909  \n",
       "Робота з даними, аналіз даних            645.416667  1155.500000  "
      ]
     },
     "execution_count": 89,
     "metadata": {},
     "output_type": "execute_result"
    }
   ],
   "source": [
    "df_new = pd.concat([df[df['Загальний стаж роботи за спеціальністю'] == 'Менше як 3 місяці'],\n",
    "                   df[df['Загальний стаж роботи за спеціальністю'] == '3 місяці'],\n",
    "                   df[df['Загальний стаж роботи за спеціальністю'] == 'Пів року']])\n",
    "\n",
    "\n",
    "pivot = df_new.pivot_table(index=['Вкажіть вашу основну спеціалізацію'],columns=['Загальний стаж роботи за спеціальністю'], values=['Зарплата у $$$ за місяць, лише ставка після сплати податків'], aggfunc= 'mean', observed = True)\n",
    "pivot\n"
   ]
  },
  {
   "cell_type": "markdown",
   "id": "dace4822-3cc1-4f72-8ccd-f16a194bd84a",
   "metadata": {},
   "source": [
    "Тепер можемо подивитися, про швидкість росту ЗП в залежності від основної мови програмування. Розглядаємо лише опитувачів із робочим стажем до півроку включно.\n"
   ]
  },
  {
   "cell_type": "code",
   "execution_count": 86,
   "id": "d7e1e038-f1b7-4373-9928-7f931e71646a",
   "metadata": {},
   "outputs": [
    {
     "data": {
      "text/html": [
       "<div>\n",
       "<style scoped>\n",
       "    .dataframe tbody tr th:only-of-type {\n",
       "        vertical-align: middle;\n",
       "    }\n",
       "\n",
       "    .dataframe tbody tr th {\n",
       "        vertical-align: top;\n",
       "    }\n",
       "\n",
       "    .dataframe thead tr th {\n",
       "        text-align: left;\n",
       "    }\n",
       "\n",
       "    .dataframe thead tr:last-of-type th {\n",
       "        text-align: right;\n",
       "    }\n",
       "</style>\n",
       "<table border=\"1\" class=\"dataframe\">\n",
       "  <thead>\n",
       "    <tr>\n",
       "      <th></th>\n",
       "      <th colspan=\"3\" halign=\"left\">Зарплата у $$$ за місяць, лише ставка після сплати податків</th>\n",
       "    </tr>\n",
       "    <tr>\n",
       "      <th>Загальний стаж роботи за спеціальністю</th>\n",
       "      <th>Менше як 3 місяці</th>\n",
       "      <th>3 місяці</th>\n",
       "      <th>Пів року</th>\n",
       "    </tr>\n",
       "    <tr>\n",
       "      <th>Основна мова програмування</th>\n",
       "      <th></th>\n",
       "      <th></th>\n",
       "      <th></th>\n",
       "    </tr>\n",
       "  </thead>\n",
       "  <tbody>\n",
       "    <tr>\n",
       "      <th>1С</th>\n",
       "      <td>2000.000000</td>\n",
       "      <td>NaN</td>\n",
       "      <td>NaN</td>\n",
       "    </tr>\n",
       "    <tr>\n",
       "      <th>C</th>\n",
       "      <td>903.333333</td>\n",
       "      <td>NaN</td>\n",
       "      <td>485.500000</td>\n",
       "    </tr>\n",
       "    <tr>\n",
       "      <th>C# / .NET</th>\n",
       "      <td>1634.242424</td>\n",
       "      <td>653.571429</td>\n",
       "      <td>1620.440000</td>\n",
       "    </tr>\n",
       "    <tr>\n",
       "      <th>C++</th>\n",
       "      <td>1128.333333</td>\n",
       "      <td>737.500000</td>\n",
       "      <td>1000.000000</td>\n",
       "    </tr>\n",
       "    <tr>\n",
       "      <th>Clojure</th>\n",
       "      <td>5000.000000</td>\n",
       "      <td>NaN</td>\n",
       "      <td>NaN</td>\n",
       "    </tr>\n",
       "    <tr>\n",
       "      <th>Dart</th>\n",
       "      <td>3200.000000</td>\n",
       "      <td>NaN</td>\n",
       "      <td>762.500000</td>\n",
       "    </tr>\n",
       "    <tr>\n",
       "      <th>Flex / Flash / AIR</th>\n",
       "      <td>215.000000</td>\n",
       "      <td>NaN</td>\n",
       "      <td>NaN</td>\n",
       "    </tr>\n",
       "    <tr>\n",
       "      <th>Go</th>\n",
       "      <td>4160.000000</td>\n",
       "      <td>400.000000</td>\n",
       "      <td>2377.777778</td>\n",
       "    </tr>\n",
       "    <tr>\n",
       "      <th>Java</th>\n",
       "      <td>2467.575758</td>\n",
       "      <td>645.555556</td>\n",
       "      <td>1085.437500</td>\n",
       "    </tr>\n",
       "    <tr>\n",
       "      <th>JavaScript</th>\n",
       "      <td>2030.800000</td>\n",
       "      <td>710.000000</td>\n",
       "      <td>848.426471</td>\n",
       "    </tr>\n",
       "    <tr>\n",
       "      <th>Kotlin</th>\n",
       "      <td>3071.666667</td>\n",
       "      <td>437.500000</td>\n",
       "      <td>463.571429</td>\n",
       "    </tr>\n",
       "    <tr>\n",
       "      <th>PHP</th>\n",
       "      <td>3101.000000</td>\n",
       "      <td>650.000000</td>\n",
       "      <td>1697.777778</td>\n",
       "    </tr>\n",
       "    <tr>\n",
       "      <th>Python</th>\n",
       "      <td>2160.512821</td>\n",
       "      <td>951.562500</td>\n",
       "      <td>1407.488372</td>\n",
       "    </tr>\n",
       "    <tr>\n",
       "      <th>R</th>\n",
       "      <td>NaN</td>\n",
       "      <td>NaN</td>\n",
       "      <td>700.000000</td>\n",
       "    </tr>\n",
       "    <tr>\n",
       "      <th>Ruby</th>\n",
       "      <td>1842.500000</td>\n",
       "      <td>NaN</td>\n",
       "      <td>830.000000</td>\n",
       "    </tr>\n",
       "    <tr>\n",
       "      <th>Rust</th>\n",
       "      <td>3750.000000</td>\n",
       "      <td>800.000000</td>\n",
       "      <td>2000.000000</td>\n",
       "    </tr>\n",
       "    <tr>\n",
       "      <th>SQL</th>\n",
       "      <td>950.000000</td>\n",
       "      <td>766.666667</td>\n",
       "      <td>888.000000</td>\n",
       "    </tr>\n",
       "    <tr>\n",
       "      <th>Salesforce Apex</th>\n",
       "      <td>1675.000000</td>\n",
       "      <td>500.000000</td>\n",
       "      <td>612.500000</td>\n",
       "    </tr>\n",
       "    <tr>\n",
       "      <th>Scala</th>\n",
       "      <td>NaN</td>\n",
       "      <td>NaN</td>\n",
       "      <td>1016.666667</td>\n",
       "    </tr>\n",
       "    <tr>\n",
       "      <th>Swift</th>\n",
       "      <td>350.000000</td>\n",
       "      <td>1000.000000</td>\n",
       "      <td>938.750000</td>\n",
       "    </tr>\n",
       "    <tr>\n",
       "      <th>TypeScript</th>\n",
       "      <td>2617.482759</td>\n",
       "      <td>1021.923077</td>\n",
       "      <td>730.823529</td>\n",
       "    </tr>\n",
       "    <tr>\n",
       "      <th>Інша мова</th>\n",
       "      <td>1095.000000</td>\n",
       "      <td>NaN</td>\n",
       "      <td>800.000000</td>\n",
       "    </tr>\n",
       "    <tr>\n",
       "      <th>Мови розробки БД (PL/SQL, Transact-SQL)</th>\n",
       "      <td>412.500000</td>\n",
       "      <td>NaN</td>\n",
       "      <td>NaN</td>\n",
       "    </tr>\n",
       "    <tr>\n",
       "      <th>Не можу обрати одну основну мову</th>\n",
       "      <td>525.000000</td>\n",
       "      <td>NaN</td>\n",
       "      <td>750.000000</td>\n",
       "    </tr>\n",
       "  </tbody>\n",
       "</table>\n",
       "</div>"
      ],
      "text/plain": [
       "                                        Зарплата у $$$ за місяць, лише ставка після сплати податків  \\\n",
       "Загальний стаж роботи за спеціальністю                                            Менше як 3 місяці   \n",
       "Основна мова програмування                                                                            \n",
       "1С                                                                             2000.000000            \n",
       "C                                                                               903.333333            \n",
       "C# / .NET                                                                      1634.242424            \n",
       "C++                                                                            1128.333333            \n",
       "Clojure                                                                        5000.000000            \n",
       "Dart                                                                           3200.000000            \n",
       "Flex / Flash / AIR                                                              215.000000            \n",
       "Go                                                                             4160.000000            \n",
       "Java                                                                           2467.575758            \n",
       "JavaScript                                                                     2030.800000            \n",
       "Kotlin                                                                         3071.666667            \n",
       "PHP                                                                            3101.000000            \n",
       "Python                                                                         2160.512821            \n",
       "R                                                                                      NaN            \n",
       "Ruby                                                                           1842.500000            \n",
       "Rust                                                                           3750.000000            \n",
       "SQL                                                                             950.000000            \n",
       "Salesforce Apex                                                                1675.000000            \n",
       "Scala                                                                                  NaN            \n",
       "Swift                                                                           350.000000            \n",
       "TypeScript                                                                     2617.482759            \n",
       "Інша мова                                                                      1095.000000            \n",
       "Мови розробки БД (PL/SQL, Transact-SQL)                                         412.500000            \n",
       "Не можу обрати одну основну мову                                                525.000000            \n",
       "\n",
       "                                                                   \n",
       "Загальний стаж роботи за спеціальністю      3 місяці     Пів року  \n",
       "Основна мова програмування                                         \n",
       "1С                                               NaN          NaN  \n",
       "C                                                NaN   485.500000  \n",
       "C# / .NET                                 653.571429  1620.440000  \n",
       "C++                                       737.500000  1000.000000  \n",
       "Clojure                                          NaN          NaN  \n",
       "Dart                                             NaN   762.500000  \n",
       "Flex / Flash / AIR                               NaN          NaN  \n",
       "Go                                        400.000000  2377.777778  \n",
       "Java                                      645.555556  1085.437500  \n",
       "JavaScript                                710.000000   848.426471  \n",
       "Kotlin                                    437.500000   463.571429  \n",
       "PHP                                       650.000000  1697.777778  \n",
       "Python                                    951.562500  1407.488372  \n",
       "R                                                NaN   700.000000  \n",
       "Ruby                                             NaN   830.000000  \n",
       "Rust                                      800.000000  2000.000000  \n",
       "SQL                                       766.666667   888.000000  \n",
       "Salesforce Apex                           500.000000   612.500000  \n",
       "Scala                                            NaN  1016.666667  \n",
       "Swift                                    1000.000000   938.750000  \n",
       "TypeScript                               1021.923077   730.823529  \n",
       "Інша мова                                        NaN   800.000000  \n",
       "Мови розробки БД (PL/SQL, Transact-SQL)          NaN          NaN  \n",
       "Не можу обрати одну основну мову                 NaN   750.000000  "
      ]
     },
     "execution_count": 86,
     "metadata": {},
     "output_type": "execute_result"
    }
   ],
   "source": [
    "                  \n",
    "pivot = df_new.pivot_table(index=['Основна мова програмування'],columns=['Загальний стаж роботи за спеціальністю'], values=['Зарплата у $$$ за місяць, лише ставка після сплати податків'], aggfunc= 'mean', observed = True)\n",
    "pivot"
   ]
  },
  {
   "cell_type": "markdown",
   "id": "92f249da-21c9-436f-9180-e2cce99c5b38",
   "metadata": {},
   "source": [
    "Загальний аналіз данних показує, що дані, представлені для молодих спеціалістів (стаж роботи до 3-х місяців), мають атипічну поведінку, а саме як для мов програмування, так і для спеціалізації, середня ЗП значно вища за ЗП працівників, що працюють довше. Тому тут треба провести додатковий аналіз."
   ]
  },
  {
   "cell_type": "markdown",
   "id": "ee863a20-5877-44c7-a57c-4b2eccf2ab88",
   "metadata": {},
   "source": []
  },
  {
   "cell_type": "code",
   "execution_count": null,
   "id": "cb48169e-4360-4787-b5db-581983ed53d9",
   "metadata": {},
   "outputs": [],
   "source": []
  }
 ],
 "metadata": {
  "kernelspec": {
   "display_name": "Python 3 (ipykernel)",
   "language": "python",
   "name": "python3"
  },
  "language_info": {
   "codemirror_mode": {
    "name": "ipython",
    "version": 3
   },
   "file_extension": ".py",
   "mimetype": "text/x-python",
   "name": "python",
   "nbconvert_exporter": "python",
   "pygments_lexer": "ipython3",
   "version": "3.12.0"
  },
  "toc": {
   "base_numbering": 1,
   "nav_menu": {},
   "number_sections": true,
   "sideBar": true,
   "skip_h1_title": false,
   "title_cell": "Table of Contents",
   "title_sidebar": "Contents",
   "toc_cell": false,
   "toc_position": {},
   "toc_section_display": true,
   "toc_window_display": false
  }
 },
 "nbformat": 4,
 "nbformat_minor": 5
}
