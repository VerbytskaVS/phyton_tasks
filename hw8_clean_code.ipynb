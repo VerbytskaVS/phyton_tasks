{
 "cells": [
  {
   "cell_type": "markdown",
   "id": "aed503f1",
   "metadata": {
    "ExecuteTime": {
     "end_time": "2023-07-27T20:14:32.871852Z",
     "start_time": "2023-07-27T20:14:31.036121Z"
    }
   },
   "source": [
    "У завданнях 1-4. Вам наданий простий код на Python, який не відповідає вказівкам PEP8. Ваше завдання — відредагувати код так, аби він відповідав PEP8. Напишіть після редагуванню коду, дотримання яких правил з pep8 ви досягли в відредагованій версі, наприклад\n",
    "```\n",
    "- додала пробіли навколо бінарного оператора\n",
    "- додала два порожні рядки між визначеннями функцій\n",
    "і тд\n",
    "```\n",
    "Також можна зазанчити використані правила коментарями по коду, а не окремим повідомленням.\n",
    "\n",
    "Відредагований код має виконувати весь той самий функціонал, але бути написаний відповідно до вимог до гарного коду на Python! Не забудьте запустити відредагований код, він має бути робочим."
   ]
  },
  {
   "cell_type": "markdown",
   "id": "e7fea147",
   "metadata": {},
   "source": [
    "Завдання 1."
   ]
  },
  {
   "cell_type": "code",
   "execution_count": 25,
   "id": "f63d84d7",
   "metadata": {
    "ExecuteTime": {
     "end_time": "2023-07-29T17:02:37.075783Z",
     "start_time": "2023-07-29T17:02:37.035259Z"
    }
   },
   "outputs": [
    {
     "name": "stdout",
     "output_type": "stream",
     "text": [
      "Hello, John\n"
     ]
    },
    {
     "data": {
      "text/plain": [
       "None"
      ]
     },
     "metadata": {},
     "output_type": "display_data"
    },
    {
     "data": {
      "text/plain": [
       "8"
      ]
     },
     "metadata": {},
     "output_type": "display_data"
    }
   ],
   "source": [
    "def greet(name: str):\n",
    "    return print(f\"Hello, {name}\")\n",
    "\n",
    "\n",
    "def add(n1: int, n2: int) -> int:\n",
    "    return n1 + n2\n",
    "\n",
    "x = 5\n",
    "y = 3\n",
    "display(greet(\"John\"), add(x, y))\n"
   ]
  },
  {
   "cell_type": "markdown",
   "id": "a87e2ebe-6360-4a44-999d-f4846f798f03",
   "metadata": {},
   "source": [
    "1. Назва фунуції визначена маленькими літерами\n",
    "2. Використовуємо def замість виразу lamdba з оператором присвоювання\n",
    "3. Імена фцнкцій обрані за змістом. greet (Вітання) друкує фразу привітання, а add виконує дію додавання\n",
    "4. Для функцій реалізовано повернення рузельтату через return\n",
    "5. Математичні оператори оточені пробілами\n",
    "6. Аргументи функції визначине з бажаними типами"
   ]
  },
  {
   "cell_type": "markdown",
   "id": "cea88baf",
   "metadata": {},
   "source": [
    "Завдання 2."
   ]
  },
  {
   "cell_type": "code",
   "execution_count": 26,
   "id": "dfb6d2b5",
   "metadata": {
    "ExecuteTime": {
     "end_time": "2023-07-29T17:05:49.706098Z",
     "start_time": "2023-07-29T17:05:49.688255Z"
    }
   },
   "outputs": [
    {
     "name": "stdout",
     "output_type": "stream",
     "text": [
      "Area: 78.53981633974483 Circumference: 31.41592653589793\n"
     ]
    }
   ],
   "source": [
    "import math as m\n",
    "\n",
    "\n",
    "def calc_area(r):\n",
    "    return m.pi * r ** 2\n",
    "\n",
    "\n",
    "def calc_circumference(r):\n",
    "    return 2 * m.pi * r\n",
    "\n",
    "\n",
    "radius = 5\n",
    "print(\"Area:\", calc_area(radius), \"Circumference:\", calc_circumference(radius))\n"
   ]
  },
  {
   "cell_type": "markdown",
   "id": "ff03b860-8502-4fb1-9028-66daf8cf1c42",
   "metadata": {},
   "source": [
    "1. Імпортуємо модуль через import та присвоювання аліасу\n",
    "2. Відокремлюємо кожну функцію 2-ма пустими строками від інших частин коду\n",
    "3. Відокремлюємо математичні оператори пробілами\n",
    "4. Відокремлюємо пробілами всі передані операторі у print\n",
    "5. Назва фунуції визначена маленькими літерами, символом \"_\"\n",
    "5. Використовуємо def замість оператора присвоювання та lambda"
   ]
  },
  {
   "cell_type": "code",
   "execution_count": null,
   "id": "df263672",
   "metadata": {},
   "outputs": [],
   "source": []
  },
  {
   "cell_type": "markdown",
   "id": "1fd691b7",
   "metadata": {},
   "source": [
    "Завдання 3."
   ]
  },
  {
   "cell_type": "code",
   "execution_count": 27,
   "id": "1d5acb2d",
   "metadata": {
    "ExecuteTime": {
     "end_time": "2023-07-29T17:06:18.612622Z",
     "start_time": "2023-07-29T17:06:18.598477Z"
    }
   },
   "outputs": [],
   "source": [
    "class Animal:\n",
    "    pass\n",
    "\n",
    "\n",
    "class Dog(Animal): \n",
    "    def __init__(self, name):\n",
    "        self.name = name\n",
    "        self.type = 'Dog'"
   ]
  },
  {
   "cell_type": "markdown",
   "id": "058264f9-da48-4d5c-9cd4-003578775c84",
   "metadata": {},
   "source": [
    "1. Імя класу визначено один словом з великої букви\n",
    "2. Оператори присвоювання оточені пробілами\n",
    "3. Оператор-заглушка введений з нової строки"
   ]
  },
  {
   "cell_type": "markdown",
   "id": "7d1d4f5d",
   "metadata": {},
   "source": [
    "Завдання 4."
   ]
  },
  {
   "cell_type": "code",
   "execution_count": 28,
   "id": "a91c1cc4",
   "metadata": {
    "ExecuteTime": {
     "end_time": "2023-07-29T17:06:47.180263Z",
     "start_time": "2023-07-29T17:06:47.173617Z"
    }
   },
   "outputs": [
    {
     "name": "stdout",
     "output_type": "stream",
     "text": [
      "1\n",
      "2\n",
      "3\n",
      "4\n",
      "5\n"
     ]
    }
   ],
   "source": [
    "list = [1, 2, 3, 4, 5]\n",
    "for i in list:\n",
    "    print(i)\n"
   ]
  },
  {
   "cell_type": "markdown",
   "id": "a2f61606-9ed0-4eb4-80b2-875b9b0e9306",
   "metadata": {},
   "source": [
    "1. Оператор присвоювання оточений пробілами\n",
    "2. Значення списку розділені пробілами\n",
    "3. З точки зору оптимізації коду, зміни сам код так, що одразу звертаємося до елементу списку, а не до індекса, а вже потім до самого елементу списку через його індекс\n"
   ]
  },
  {
   "cell_type": "markdown",
   "id": "8b0487e6",
   "metadata": {},
   "source": [
    "5.У вас є DataFrame df, що представляє результати тестів студентів з математики, англійської мови та історії. Поточний код обчислює середній бал для кожного студента шляхом ітерації за рядками DataFrame за допомогою iterrows().\n",
    "\n",
    "Ваше завдання полягає в тому, щоб змінити код так, аби уникнути використання iterrows() і замість цього застосувати більш ефективне та читабельне рішення відповідно до правил, озвучених у лекції. Рефакторинг треба зробити лише частині, де рахуються середні, імпорт і визначення датафрейму лишаємо без змін."
   ]
  },
  {
   "cell_type": "code",
   "execution_count": 29,
   "id": "5b3cc648",
   "metadata": {
    "ExecuteTime": {
     "end_time": "2023-07-29T17:15:55.926882Z",
     "start_time": "2023-07-29T17:15:55.686415Z"
    }
   },
   "outputs": [],
   "source": [
    "import pandas as pd\n",
    "\n",
    "df = pd.DataFrame({\n",
    "    'student': ['Alice', 'Bob', 'Charlie', 'David'],\n",
    "    'math_score': [89, 94, 77, 85],\n",
    "    'english_score': [92, 88, 79, 85],\n",
    "    'history_score': [84, 92, 81, 89]\n",
    "})"
   ]
  },
  {
   "cell_type": "code",
   "execution_count": 30,
   "id": "f5858889",
   "metadata": {
    "ExecuteTime": {
     "end_time": "2023-07-29T17:15:55.926882Z",
     "start_time": "2023-07-29T17:15:55.686415Z"
    }
   },
   "outputs": [
    {
     "data": {
      "text/html": [
       "<div>\n",
       "<style scoped>\n",
       "    .dataframe tbody tr th:only-of-type {\n",
       "        vertical-align: middle;\n",
       "    }\n",
       "\n",
       "    .dataframe tbody tr th {\n",
       "        vertical-align: top;\n",
       "    }\n",
       "\n",
       "    .dataframe thead th {\n",
       "        text-align: right;\n",
       "    }\n",
       "</style>\n",
       "<table border=\"1\" class=\"dataframe\">\n",
       "  <thead>\n",
       "    <tr style=\"text-align: right;\">\n",
       "      <th></th>\n",
       "      <th>student</th>\n",
       "      <th>math_score</th>\n",
       "      <th>english_score</th>\n",
       "      <th>history_score</th>\n",
       "      <th>average_score</th>\n",
       "    </tr>\n",
       "  </thead>\n",
       "  <tbody>\n",
       "    <tr>\n",
       "      <th>0</th>\n",
       "      <td>Alice</td>\n",
       "      <td>89</td>\n",
       "      <td>92</td>\n",
       "      <td>84</td>\n",
       "      <td>88.333333</td>\n",
       "    </tr>\n",
       "    <tr>\n",
       "      <th>1</th>\n",
       "      <td>Bob</td>\n",
       "      <td>94</td>\n",
       "      <td>88</td>\n",
       "      <td>92</td>\n",
       "      <td>91.333333</td>\n",
       "    </tr>\n",
       "    <tr>\n",
       "      <th>2</th>\n",
       "      <td>Charlie</td>\n",
       "      <td>77</td>\n",
       "      <td>79</td>\n",
       "      <td>81</td>\n",
       "      <td>79.000000</td>\n",
       "    </tr>\n",
       "    <tr>\n",
       "      <th>3</th>\n",
       "      <td>David</td>\n",
       "      <td>85</td>\n",
       "      <td>85</td>\n",
       "      <td>89</td>\n",
       "      <td>86.333333</td>\n",
       "    </tr>\n",
       "  </tbody>\n",
       "</table>\n",
       "</div>"
      ],
      "text/plain": [
       "   student  math_score  english_score  history_score  average_score\n",
       "0    Alice          89             92             84      88.333333\n",
       "1      Bob          94             88             92      91.333333\n",
       "2  Charlie          77             79             81      79.000000\n",
       "3    David          85             85             89      86.333333"
      ]
     },
     "execution_count": 30,
     "metadata": {},
     "output_type": "execute_result"
    }
   ],
   "source": [
    "df['average_score'] = (df['math_score'] + df['english_score'] + df['history_score']) / 3\n",
    "\n",
    "df.head()"
   ]
  },
  {
   "cell_type": "code",
   "execution_count": null,
   "id": "74cea4fc",
   "metadata": {},
   "outputs": [],
   "source": []
  },
  {
   "cell_type": "markdown",
   "id": "34fb1db9",
   "metadata": {},
   "source": [
    "6.У Вас є великий DataFrame df, що представляє транзакції продажу в магазині. Цей DataFrame містить понад 1 мільйон рядків і кілька стовпців, зокрема «product_name», «product_category», «product_price» і «transaction_date».\n",
    "\n",
    "І «product_name», і «product_category» є рядками, що представляють численні, але обмежені унікальні назви продуктів і категорії відповідно.\n",
    "\n",
    "Напишіть код для ефективного перетворення стовпців «product_name» і «product_category» на категорійний тип для ефективного використання пам’яті.\n",
    "Спробуйте вирішити це завдання, мінімізуючи використання пам'яті та зберігаючи читабельність коду. Крім того, виміряйте використання пам’яті до та після перетворення, щоб продемонструвати підвищення ефективності.\n",
    "\n",
    "Порівняйте кількість памʼяті, яку займає наданий набір даних і новий, створений Вами. В лекції був приклад. В скільки разів менше памʼяті займає новий датафрейм?"
   ]
  },
  {
   "cell_type": "code",
   "execution_count": 31,
   "id": "d4926909",
   "metadata": {
    "ExecuteTime": {
     "end_time": "2023-07-29T21:19:30.009527Z",
     "start_time": "2023-07-29T21:19:29.595210Z"
    }
   },
   "outputs": [],
   "source": [
    "import pandas as pd\n",
    "import numpy as np\n",
    "\n",
    "np.random.seed(0)\n",
    "\n",
    "products = ['apple', 'banana', 'cherry', 'dates', 'elderberry']\n",
    "categories = ['fruit', 'fruit', 'fruit', 'fruit', 'fruit']\n",
    "\n",
    "N_ROWS = 10**6\n",
    "df = pd.DataFrame({\n",
    "    'product_name': np.random.choice(products, N_ROWS),\n",
    "    'product_category': np.random.choice(categories, N_ROWS),\n",
    "    'product_price': np.random.uniform(1, 10, N_ROWS),\n",
    "    'transaction_date': pd.date_range(start='1/1/2000', periods=N_ROWS, freq='h')\n",
    "})\n"
   ]
  },
  {
   "cell_type": "code",
   "execution_count": 32,
   "id": "b4762ec2-5de8-4f2f-b7d7-a6e5fbc0e9cc",
   "metadata": {},
   "outputs": [],
   "source": [
    "df.head()\n",
    "memory_not_cat = df.memory_usage(index=False).sum()"
   ]
  },
  {
   "cell_type": "code",
   "execution_count": 33,
   "id": "7652f9f6-8e4c-4665-ba57-c25b086e1c8e",
   "metadata": {},
   "outputs": [],
   "source": [
    "df_cat = df.copy()\n",
    "for col in ['product_name', 'product_category']:\n",
    "    df_cat[col] =  pd.Categorical(df_cat[col])"
   ]
  },
  {
   "cell_type": "code",
   "execution_count": 34,
   "id": "d0143d01-5342-44ac-8678-48d88e861e6a",
   "metadata": {},
   "outputs": [],
   "source": [
    "df_cat.head()\n",
    "memory_cat = df_cat.memory_usage(index=False).sum()"
   ]
  },
  {
   "cell_type": "code",
   "execution_count": 35,
   "id": "a2659b22-9ed9-4e20-b466-3f81bfcacdd2",
   "metadata": {},
   "outputs": [
    {
     "name": "stdout",
     "output_type": "stream",
     "text": [
      "Маємо зниження витрат памʼяті на 43.75% !\n"
     ]
    }
   ],
   "source": [
    "print(f\"Маємо зниження витрат памʼяті на {round((1-memory_cat/memory_not_cat)*100,2)}% !\")"
   ]
  },
  {
   "cell_type": "markdown",
   "id": "131cc08d",
   "metadata": {},
   "source": [
    "7.В цьому завданні кілька пунктів. Треба виконати усі послідовно.   \n",
    "    7.1. Завантажте дані у pandas dataframe з файла `ecommerce_data.csv`. Обовʼязково при завантаженні вкажіть параметр `encoding = 'ISO-8859-1'`, без нього буде помилка.  \n",
    "    7.2. Заповніть пропущені значення в колонці CustomerID на -1 та перетворіть тип цієї колонки на str, адже зараз вона типу float, а це не правильний тип даних для ідентифікатора клієнта.  \n",
    "    7.3. З допомогою бібліотеки sweetviz побудуйте html звіт, який порівнює дані для країни \"Germany\" і країни \"France\". У Вас можуть виникнути багато попереджень (Warning), їх рекомендую вимкнути наступним шматком коду   \n",
    "    \n",
    "   \n",
    "    import warnings\n",
    "\n",
    "    with warnings.catch_warnings(record=True):\n",
    "        # your code\n",
    "    \n",
    "    \n",
    "   7.4.Напишіть 5 відмінностей для двох зазначених країн на основі побудованого звіту, без виконання додаткового аналізу іншими інструментами. "
   ]
  },
  {
   "cell_type": "code",
   "execution_count": 36,
   "id": "17200e77",
   "metadata": {},
   "outputs": [
    {
     "name": "stderr",
     "output_type": "stream",
     "text": [
      "<>:1: SyntaxWarning: invalid escape sequence '\\e'\n",
      "<>:1: SyntaxWarning: invalid escape sequence '\\e'\n",
      "C:\\Users\\v_verbitskaya\\AppData\\Local\\Temp\\ipykernel_11364\\3559098594.py:1: SyntaxWarning: invalid escape sequence '\\e'\n",
      "  df = pd.read_csv('data\\ecommerce_data.csv', encoding = 'ISO-8859-1')\n"
     ]
    }
   ],
   "source": [
    "df = pd.read_csv('data\\ecommerce_data.csv', encoding = 'ISO-8859-1')"
   ]
  },
  {
   "cell_type": "code",
   "execution_count": null,
   "id": "ae1bd959-1de3-4f9f-a958-8771ad960b2c",
   "metadata": {},
   "outputs": [],
   "source": []
  },
  {
   "cell_type": "code",
   "execution_count": 37,
   "id": "fc2f38a8-3991-473d-96fe-b41810f53253",
   "metadata": {},
   "outputs": [
    {
     "name": "stdout",
     "output_type": "stream",
     "text": [
      "<class 'pandas.core.frame.DataFrame'>\n",
      "RangeIndex: 541909 entries, 0 to 541908\n",
      "Data columns (total 8 columns):\n",
      " #   Column       Non-Null Count   Dtype  \n",
      "---  ------       --------------   -----  \n",
      " 0   InvoiceNo    541909 non-null  object \n",
      " 1   StockCode    541909 non-null  object \n",
      " 2   Description  540455 non-null  object \n",
      " 3   Quantity     541909 non-null  int64  \n",
      " 4   InvoiceDate  541909 non-null  object \n",
      " 5   UnitPrice    541909 non-null  float64\n",
      " 6   CustomerID   541909 non-null  object \n",
      " 7   Country      541909 non-null  object \n",
      "dtypes: float64(1), int64(1), object(6)\n",
      "memory usage: 33.1+ MB\n"
     ]
    }
   ],
   "source": [
    "df_clear = df.copy()\n",
    "df_clear['CustomerID'].fillna(-1, inplace=True)\n",
    "# CustomerID зараз типу float. Конвертуємо його у тип int, а вжу потім у str, щоб маув красивий вигляб без крапки\n",
    "df_clear['CustomerID'] = df_clear['CustomerID'].astype('int')\n",
    "df_clear['CustomerID'] = df_clear['CustomerID'].astype('str')\n",
    "df_clear.info()"
   ]
  },
  {
   "cell_type": "code",
   "execution_count": 14,
   "id": "f9adf33f-3eb0-4335-a5ac-a14c86750664",
   "metadata": {},
   "outputs": [
    {
     "data": {
      "text/html": [
       "<div>\n",
       "<style scoped>\n",
       "    .dataframe tbody tr th:only-of-type {\n",
       "        vertical-align: middle;\n",
       "    }\n",
       "\n",
       "    .dataframe tbody tr th {\n",
       "        vertical-align: top;\n",
       "    }\n",
       "\n",
       "    .dataframe thead th {\n",
       "        text-align: right;\n",
       "    }\n",
       "</style>\n",
       "<table border=\"1\" class=\"dataframe\">\n",
       "  <thead>\n",
       "    <tr style=\"text-align: right;\">\n",
       "      <th></th>\n",
       "      <th>InvoiceNo</th>\n",
       "      <th>StockCode</th>\n",
       "      <th>Description</th>\n",
       "      <th>Quantity</th>\n",
       "      <th>InvoiceDate</th>\n",
       "      <th>UnitPrice</th>\n",
       "      <th>CustomerID</th>\n",
       "      <th>Country</th>\n",
       "    </tr>\n",
       "  </thead>\n",
       "  <tbody>\n",
       "    <tr>\n",
       "      <th>0</th>\n",
       "      <td>536365</td>\n",
       "      <td>85123A</td>\n",
       "      <td>WHITE HANGING HEART T-LIGHT HOLDER</td>\n",
       "      <td>6</td>\n",
       "      <td>12/1/2010 8:26</td>\n",
       "      <td>2.55</td>\n",
       "      <td>17850</td>\n",
       "      <td>United Kingdom</td>\n",
       "    </tr>\n",
       "    <tr>\n",
       "      <th>1</th>\n",
       "      <td>536365</td>\n",
       "      <td>71053</td>\n",
       "      <td>WHITE METAL LANTERN</td>\n",
       "      <td>6</td>\n",
       "      <td>12/1/2010 8:26</td>\n",
       "      <td>3.39</td>\n",
       "      <td>17850</td>\n",
       "      <td>United Kingdom</td>\n",
       "    </tr>\n",
       "    <tr>\n",
       "      <th>2</th>\n",
       "      <td>536365</td>\n",
       "      <td>84406B</td>\n",
       "      <td>CREAM CUPID HEARTS COAT HANGER</td>\n",
       "      <td>8</td>\n",
       "      <td>12/1/2010 8:26</td>\n",
       "      <td>2.75</td>\n",
       "      <td>17850</td>\n",
       "      <td>United Kingdom</td>\n",
       "    </tr>\n",
       "    <tr>\n",
       "      <th>3</th>\n",
       "      <td>536365</td>\n",
       "      <td>84029G</td>\n",
       "      <td>KNITTED UNION FLAG HOT WATER BOTTLE</td>\n",
       "      <td>6</td>\n",
       "      <td>12/1/2010 8:26</td>\n",
       "      <td>3.39</td>\n",
       "      <td>17850</td>\n",
       "      <td>United Kingdom</td>\n",
       "    </tr>\n",
       "    <tr>\n",
       "      <th>4</th>\n",
       "      <td>536365</td>\n",
       "      <td>84029E</td>\n",
       "      <td>RED WOOLLY HOTTIE WHITE HEART.</td>\n",
       "      <td>6</td>\n",
       "      <td>12/1/2010 8:26</td>\n",
       "      <td>3.39</td>\n",
       "      <td>17850</td>\n",
       "      <td>United Kingdom</td>\n",
       "    </tr>\n",
       "  </tbody>\n",
       "</table>\n",
       "</div>"
      ],
      "text/plain": [
       "  InvoiceNo StockCode                          Description  Quantity  \\\n",
       "0    536365    85123A   WHITE HANGING HEART T-LIGHT HOLDER         6   \n",
       "1    536365     71053                  WHITE METAL LANTERN         6   \n",
       "2    536365    84406B       CREAM CUPID HEARTS COAT HANGER         8   \n",
       "3    536365    84029G  KNITTED UNION FLAG HOT WATER BOTTLE         6   \n",
       "4    536365    84029E       RED WOOLLY HOTTIE WHITE HEART.         6   \n",
       "\n",
       "      InvoiceDate  UnitPrice CustomerID         Country  \n",
       "0  12/1/2010 8:26       2.55      17850  United Kingdom  \n",
       "1  12/1/2010 8:26       3.39      17850  United Kingdom  \n",
       "2  12/1/2010 8:26       2.75      17850  United Kingdom  \n",
       "3  12/1/2010 8:26       3.39      17850  United Kingdom  \n",
       "4  12/1/2010 8:26       3.39      17850  United Kingdom  "
      ]
     },
     "execution_count": 14,
     "metadata": {},
     "output_type": "execute_result"
    }
   ],
   "source": [
    "df_clear.head()"
   ]
  },
  {
   "cell_type": "code",
   "execution_count": 15,
   "id": "759ebecb-d9fa-4fb0-9a45-88125b052aeb",
   "metadata": {},
   "outputs": [
    {
     "data": {
      "text/plain": [
       "InvoiceNo      8557\n",
       "StockCode      8557\n",
       "Description    8557\n",
       "Quantity       8557\n",
       "InvoiceDate    8557\n",
       "UnitPrice      8557\n",
       "CustomerID     8557\n",
       "Country        8557\n",
       "dtype: int64"
      ]
     },
     "execution_count": 15,
     "metadata": {},
     "output_type": "execute_result"
    }
   ],
   "source": [
    "df_clear[df_clear.Country == 'France'].count()"
   ]
  },
  {
   "cell_type": "code",
   "execution_count": 16,
   "id": "031a2766-4e6d-4e0b-8877-074691826715",
   "metadata": {},
   "outputs": [
    {
     "data": {
      "text/html": [
       "<div>\n",
       "<style scoped>\n",
       "    .dataframe tbody tr th:only-of-type {\n",
       "        vertical-align: middle;\n",
       "    }\n",
       "\n",
       "    .dataframe tbody tr th {\n",
       "        vertical-align: top;\n",
       "    }\n",
       "\n",
       "    .dataframe thead th {\n",
       "        text-align: right;\n",
       "    }\n",
       "</style>\n",
       "<table border=\"1\" class=\"dataframe\">\n",
       "  <thead>\n",
       "    <tr style=\"text-align: right;\">\n",
       "      <th></th>\n",
       "      <th>Quantity</th>\n",
       "      <th>UnitPrice</th>\n",
       "    </tr>\n",
       "  </thead>\n",
       "  <tbody>\n",
       "    <tr>\n",
       "      <th>count</th>\n",
       "      <td>541909.000000</td>\n",
       "      <td>541909.000000</td>\n",
       "    </tr>\n",
       "    <tr>\n",
       "      <th>mean</th>\n",
       "      <td>9.552250</td>\n",
       "      <td>4.611114</td>\n",
       "    </tr>\n",
       "    <tr>\n",
       "      <th>std</th>\n",
       "      <td>218.081158</td>\n",
       "      <td>96.759853</td>\n",
       "    </tr>\n",
       "    <tr>\n",
       "      <th>min</th>\n",
       "      <td>-80995.000000</td>\n",
       "      <td>-11062.060000</td>\n",
       "    </tr>\n",
       "    <tr>\n",
       "      <th>25%</th>\n",
       "      <td>1.000000</td>\n",
       "      <td>1.250000</td>\n",
       "    </tr>\n",
       "    <tr>\n",
       "      <th>50%</th>\n",
       "      <td>3.000000</td>\n",
       "      <td>2.080000</td>\n",
       "    </tr>\n",
       "    <tr>\n",
       "      <th>75%</th>\n",
       "      <td>10.000000</td>\n",
       "      <td>4.130000</td>\n",
       "    </tr>\n",
       "    <tr>\n",
       "      <th>max</th>\n",
       "      <td>80995.000000</td>\n",
       "      <td>38970.000000</td>\n",
       "    </tr>\n",
       "  </tbody>\n",
       "</table>\n",
       "</div>"
      ],
      "text/plain": [
       "            Quantity      UnitPrice\n",
       "count  541909.000000  541909.000000\n",
       "mean        9.552250       4.611114\n",
       "std       218.081158      96.759853\n",
       "min    -80995.000000  -11062.060000\n",
       "25%         1.000000       1.250000\n",
       "50%         3.000000       2.080000\n",
       "75%        10.000000       4.130000\n",
       "max     80995.000000   38970.000000"
      ]
     },
     "execution_count": 16,
     "metadata": {},
     "output_type": "execute_result"
    }
   ],
   "source": [
    "df_clear.describe()"
   ]
  },
  {
   "cell_type": "code",
   "execution_count": 17,
   "id": "b52386b8-3ae2-4e55-bee1-f5801451c8f3",
   "metadata": {},
   "outputs": [
    {
     "data": {
      "text/html": [
       "<div>\n",
       "<style scoped>\n",
       "    .dataframe tbody tr th:only-of-type {\n",
       "        vertical-align: middle;\n",
       "    }\n",
       "\n",
       "    .dataframe tbody tr th {\n",
       "        vertical-align: top;\n",
       "    }\n",
       "\n",
       "    .dataframe thead th {\n",
       "        text-align: right;\n",
       "    }\n",
       "</style>\n",
       "<table border=\"1\" class=\"dataframe\">\n",
       "  <thead>\n",
       "    <tr style=\"text-align: right;\">\n",
       "      <th></th>\n",
       "      <th>InvoiceNo</th>\n",
       "      <th>StockCode</th>\n",
       "      <th>Description</th>\n",
       "      <th>Quantity</th>\n",
       "      <th>InvoiceDate</th>\n",
       "      <th>UnitPrice</th>\n",
       "      <th>CustomerID</th>\n",
       "      <th>Country</th>\n",
       "    </tr>\n",
       "  </thead>\n",
       "  <tbody>\n",
       "    <tr>\n",
       "      <th>299983</th>\n",
       "      <td>A563186</td>\n",
       "      <td>B</td>\n",
       "      <td>Adjust bad debt</td>\n",
       "      <td>1</td>\n",
       "      <td>8/12/2011 14:51</td>\n",
       "      <td>-11062.06</td>\n",
       "      <td>-1</td>\n",
       "      <td>United Kingdom</td>\n",
       "    </tr>\n",
       "    <tr>\n",
       "      <th>299984</th>\n",
       "      <td>A563187</td>\n",
       "      <td>B</td>\n",
       "      <td>Adjust bad debt</td>\n",
       "      <td>1</td>\n",
       "      <td>8/12/2011 14:52</td>\n",
       "      <td>-11062.06</td>\n",
       "      <td>-1</td>\n",
       "      <td>United Kingdom</td>\n",
       "    </tr>\n",
       "    <tr>\n",
       "      <th>299982</th>\n",
       "      <td>A563185</td>\n",
       "      <td>B</td>\n",
       "      <td>Adjust bad debt</td>\n",
       "      <td>1</td>\n",
       "      <td>8/12/2011 14:50</td>\n",
       "      <td>11062.06</td>\n",
       "      <td>-1</td>\n",
       "      <td>United Kingdom</td>\n",
       "    </tr>\n",
       "  </tbody>\n",
       "</table>\n",
       "</div>"
      ],
      "text/plain": [
       "       InvoiceNo StockCode      Description  Quantity      InvoiceDate  \\\n",
       "299983   A563186         B  Adjust bad debt         1  8/12/2011 14:51   \n",
       "299984   A563187         B  Adjust bad debt         1  8/12/2011 14:52   \n",
       "299982   A563185         B  Adjust bad debt         1  8/12/2011 14:50   \n",
       "\n",
       "        UnitPrice CustomerID         Country  \n",
       "299983  -11062.06         -1  United Kingdom  \n",
       "299984  -11062.06         -1  United Kingdom  \n",
       "299982   11062.06         -1  United Kingdom  "
      ]
     },
     "execution_count": 17,
     "metadata": {},
     "output_type": "execute_result"
    }
   ],
   "source": [
    "df_clear[df_clear.StockCode == 'B'].sort_values(by = 'UnitPrice', ascending=True)"
   ]
  },
  {
   "cell_type": "code",
   "execution_count": 18,
   "id": "6e9722bb-3309-4293-9062-66c726359dd2",
   "metadata": {},
   "outputs": [
    {
     "data": {
      "text/html": [
       "<div>\n",
       "<style scoped>\n",
       "    .dataframe tbody tr th:only-of-type {\n",
       "        vertical-align: middle;\n",
       "    }\n",
       "\n",
       "    .dataframe tbody tr th {\n",
       "        vertical-align: top;\n",
       "    }\n",
       "\n",
       "    .dataframe thead th {\n",
       "        text-align: right;\n",
       "    }\n",
       "</style>\n",
       "<table border=\"1\" class=\"dataframe\">\n",
       "  <thead>\n",
       "    <tr style=\"text-align: right;\">\n",
       "      <th></th>\n",
       "      <th>InvoiceNo</th>\n",
       "      <th>StockCode</th>\n",
       "      <th>Description</th>\n",
       "      <th>Quantity</th>\n",
       "      <th>InvoiceDate</th>\n",
       "      <th>UnitPrice</th>\n",
       "      <th>CustomerID</th>\n",
       "      <th>Country</th>\n",
       "    </tr>\n",
       "  </thead>\n",
       "  <tbody>\n",
       "    <tr>\n",
       "      <th>4406</th>\n",
       "      <td>536779</td>\n",
       "      <td>BANK CHARGES</td>\n",
       "      <td>Bank Charges</td>\n",
       "      <td>1</td>\n",
       "      <td>12/2/2010 15:08</td>\n",
       "      <td>15.000</td>\n",
       "      <td>15823</td>\n",
       "      <td>United Kingdom</td>\n",
       "    </tr>\n",
       "    <tr>\n",
       "      <th>14435</th>\n",
       "      <td>C537572</td>\n",
       "      <td>BANK CHARGES</td>\n",
       "      <td>Bank Charges</td>\n",
       "      <td>-1</td>\n",
       "      <td>12/7/2010 12:00</td>\n",
       "      <td>95.380</td>\n",
       "      <td>-1</td>\n",
       "      <td>United Kingdom</td>\n",
       "    </tr>\n",
       "    <tr>\n",
       "      <th>28992</th>\n",
       "      <td>C538680</td>\n",
       "      <td>BANK CHARGES</td>\n",
       "      <td>Bank Charges</td>\n",
       "      <td>-1</td>\n",
       "      <td>12/13/2010 17:10</td>\n",
       "      <td>966.920</td>\n",
       "      <td>-1</td>\n",
       "      <td>United Kingdom</td>\n",
       "    </tr>\n",
       "    <tr>\n",
       "      <th>62508</th>\n",
       "      <td>541505</td>\n",
       "      <td>BANK CHARGES</td>\n",
       "      <td>Bank Charges</td>\n",
       "      <td>1</td>\n",
       "      <td>1/18/2011 15:58</td>\n",
       "      <td>15.000</td>\n",
       "      <td>15939</td>\n",
       "      <td>United Kingdom</td>\n",
       "    </tr>\n",
       "    <tr>\n",
       "      <th>64573</th>\n",
       "      <td>C541653</td>\n",
       "      <td>BANK CHARGES</td>\n",
       "      <td>Bank Charges</td>\n",
       "      <td>-1</td>\n",
       "      <td>1/20/2011 11:50</td>\n",
       "      <td>1050.150</td>\n",
       "      <td>-1</td>\n",
       "      <td>United Kingdom</td>\n",
       "    </tr>\n",
       "    <tr>\n",
       "      <th>90558</th>\n",
       "      <td>C544049</td>\n",
       "      <td>BANK CHARGES</td>\n",
       "      <td>Bank Charges</td>\n",
       "      <td>-1</td>\n",
       "      <td>2/15/2011 12:39</td>\n",
       "      <td>566.370</td>\n",
       "      <td>-1</td>\n",
       "      <td>United Kingdom</td>\n",
       "    </tr>\n",
       "    <tr>\n",
       "      <th>96675</th>\n",
       "      <td>C544575</td>\n",
       "      <td>BANK CHARGES</td>\n",
       "      <td>Bank Charges</td>\n",
       "      <td>-1</td>\n",
       "      <td>2/21/2011 13:58</td>\n",
       "      <td>134.760</td>\n",
       "      <td>-1</td>\n",
       "      <td>United Kingdom</td>\n",
       "    </tr>\n",
       "    <tr>\n",
       "      <th>96676</th>\n",
       "      <td>C544576</td>\n",
       "      <td>BANK CHARGES</td>\n",
       "      <td>Bank Charges</td>\n",
       "      <td>-1</td>\n",
       "      <td>2/21/2011 14:01</td>\n",
       "      <td>149.160</td>\n",
       "      <td>-1</td>\n",
       "      <td>United Kingdom</td>\n",
       "    </tr>\n",
       "    <tr>\n",
       "      <th>96715</th>\n",
       "      <td>C544584</td>\n",
       "      <td>BANK CHARGES</td>\n",
       "      <td>Bank Charges</td>\n",
       "      <td>-1</td>\n",
       "      <td>2/21/2011 14:52</td>\n",
       "      <td>109.840</td>\n",
       "      <td>-1</td>\n",
       "      <td>United Kingdom</td>\n",
       "    </tr>\n",
       "    <tr>\n",
       "      <th>112233</th>\n",
       "      <td>C545887</td>\n",
       "      <td>BANK CHARGES</td>\n",
       "      <td>Bank Charges</td>\n",
       "      <td>-1</td>\n",
       "      <td>3/7/2011 15:54</td>\n",
       "      <td>326.680</td>\n",
       "      <td>-1</td>\n",
       "      <td>United Kingdom</td>\n",
       "    </tr>\n",
       "    <tr>\n",
       "      <th>124025</th>\n",
       "      <td>C546943</td>\n",
       "      <td>BANK CHARGES</td>\n",
       "      <td>Bank Charges</td>\n",
       "      <td>-1</td>\n",
       "      <td>3/18/2011 11:11</td>\n",
       "      <td>56.930</td>\n",
       "      <td>-1</td>\n",
       "      <td>United Kingdom</td>\n",
       "    </tr>\n",
       "    <tr>\n",
       "      <th>152966</th>\n",
       "      <td>549717</td>\n",
       "      <td>BANK CHARGES</td>\n",
       "      <td>Bank Charges</td>\n",
       "      <td>1</td>\n",
       "      <td>4/11/2011 14:56</td>\n",
       "      <td>15.000</td>\n",
       "      <td>14606</td>\n",
       "      <td>United Kingdom</td>\n",
       "    </tr>\n",
       "    <tr>\n",
       "      <th>166515</th>\n",
       "      <td>C550932</td>\n",
       "      <td>BANK CHARGES</td>\n",
       "      <td>Bank Charges</td>\n",
       "      <td>-1</td>\n",
       "      <td>4/21/2011 15:12</td>\n",
       "      <td>475.690</td>\n",
       "      <td>-1</td>\n",
       "      <td>United Kingdom</td>\n",
       "    </tr>\n",
       "    <tr>\n",
       "      <th>175275</th>\n",
       "      <td>551945</td>\n",
       "      <td>BANK CHARGES</td>\n",
       "      <td>Bank Charges</td>\n",
       "      <td>1</td>\n",
       "      <td>5/5/2011 11:09</td>\n",
       "      <td>15.000</td>\n",
       "      <td>16714</td>\n",
       "      <td>United Kingdom</td>\n",
       "    </tr>\n",
       "    <tr>\n",
       "      <th>181258</th>\n",
       "      <td>C552458</td>\n",
       "      <td>BANK CHARGES</td>\n",
       "      <td>Bank Charges</td>\n",
       "      <td>-1</td>\n",
       "      <td>5/9/2011 14:41</td>\n",
       "      <td>440.290</td>\n",
       "      <td>-1</td>\n",
       "      <td>United Kingdom</td>\n",
       "    </tr>\n",
       "    <tr>\n",
       "      <th>193136</th>\n",
       "      <td>C553511</td>\n",
       "      <td>BANK CHARGES</td>\n",
       "      <td>Bank Charges</td>\n",
       "      <td>-1</td>\n",
       "      <td>5/17/2011 13:49</td>\n",
       "      <td>86.900</td>\n",
       "      <td>-1</td>\n",
       "      <td>United Kingdom</td>\n",
       "    </tr>\n",
       "    <tr>\n",
       "      <th>193444</th>\n",
       "      <td>C553528</td>\n",
       "      <td>BANK CHARGES</td>\n",
       "      <td>Bank Charges</td>\n",
       "      <td>-1</td>\n",
       "      <td>5/17/2011 14:58</td>\n",
       "      <td>82.730</td>\n",
       "      <td>-1</td>\n",
       "      <td>United Kingdom</td>\n",
       "    </tr>\n",
       "    <tr>\n",
       "      <th>227400</th>\n",
       "      <td>C556874</td>\n",
       "      <td>BANK CHARGES</td>\n",
       "      <td>Bank Charges</td>\n",
       "      <td>-1</td>\n",
       "      <td>6/15/2011 11:49</td>\n",
       "      <td>464.520</td>\n",
       "      <td>-1</td>\n",
       "      <td>United Kingdom</td>\n",
       "    </tr>\n",
       "    <tr>\n",
       "      <th>242465</th>\n",
       "      <td>C558349</td>\n",
       "      <td>BANK CHARGES</td>\n",
       "      <td>Bank Charges</td>\n",
       "      <td>-1</td>\n",
       "      <td>6/28/2011 14:50</td>\n",
       "      <td>82.890</td>\n",
       "      <td>-1</td>\n",
       "      <td>United Kingdom</td>\n",
       "    </tr>\n",
       "    <tr>\n",
       "      <th>273311</th>\n",
       "      <td>C560823</td>\n",
       "      <td>BANK CHARGES</td>\n",
       "      <td>Bank Charges</td>\n",
       "      <td>-1</td>\n",
       "      <td>7/21/2011 11:22</td>\n",
       "      <td>21.900</td>\n",
       "      <td>-1</td>\n",
       "      <td>United Kingdom</td>\n",
       "    </tr>\n",
       "    <tr>\n",
       "      <th>303275</th>\n",
       "      <td>C563535</td>\n",
       "      <td>BANK CHARGES</td>\n",
       "      <td>Bank Charges</td>\n",
       "      <td>-1</td>\n",
       "      <td>8/17/2011 11:38</td>\n",
       "      <td>612.460</td>\n",
       "      <td>-1</td>\n",
       "      <td>United Kingdom</td>\n",
       "    </tr>\n",
       "    <tr>\n",
       "      <th>313427</th>\n",
       "      <td>C564494</td>\n",
       "      <td>BANK CHARGES</td>\n",
       "      <td>Bank Charges</td>\n",
       "      <td>-1</td>\n",
       "      <td>8/25/2011 14:20</td>\n",
       "      <td>83.830</td>\n",
       "      <td>-1</td>\n",
       "      <td>United Kingdom</td>\n",
       "    </tr>\n",
       "    <tr>\n",
       "      <th>313461</th>\n",
       "      <td>C564498</td>\n",
       "      <td>BANK CHARGES</td>\n",
       "      <td>Bank Charges</td>\n",
       "      <td>-1</td>\n",
       "      <td>8/25/2011 14:22</td>\n",
       "      <td>77.630</td>\n",
       "      <td>-1</td>\n",
       "      <td>United Kingdom</td>\n",
       "    </tr>\n",
       "    <tr>\n",
       "      <th>327921</th>\n",
       "      <td>565735</td>\n",
       "      <td>BANK CHARGES</td>\n",
       "      <td>Bank Charges</td>\n",
       "      <td>1</td>\n",
       "      <td>9/6/2011 12:25</td>\n",
       "      <td>15.000</td>\n",
       "      <td>16904</td>\n",
       "      <td>United Kingdom</td>\n",
       "    </tr>\n",
       "    <tr>\n",
       "      <th>345020</th>\n",
       "      <td>C567136</td>\n",
       "      <td>BANK CHARGES</td>\n",
       "      <td>Bank Charges</td>\n",
       "      <td>-1</td>\n",
       "      <td>9/16/2011 14:27</td>\n",
       "      <td>366.270</td>\n",
       "      <td>-1</td>\n",
       "      <td>United Kingdom</td>\n",
       "    </tr>\n",
       "    <tr>\n",
       "      <th>361740</th>\n",
       "      <td>568375</td>\n",
       "      <td>BANK CHARGES</td>\n",
       "      <td>Bank Charges</td>\n",
       "      <td>1</td>\n",
       "      <td>9/26/2011 17:01</td>\n",
       "      <td>15.000</td>\n",
       "      <td>13405</td>\n",
       "      <td>United Kingdom</td>\n",
       "    </tr>\n",
       "    <tr>\n",
       "      <th>361741</th>\n",
       "      <td>568375</td>\n",
       "      <td>BANK CHARGES</td>\n",
       "      <td>Bank Charges</td>\n",
       "      <td>1</td>\n",
       "      <td>9/26/2011 17:01</td>\n",
       "      <td>0.001</td>\n",
       "      <td>13405</td>\n",
       "      <td>United Kingdom</td>\n",
       "    </tr>\n",
       "    <tr>\n",
       "      <th>388729</th>\n",
       "      <td>C570454</td>\n",
       "      <td>BANK CHARGES</td>\n",
       "      <td>Bank Charges</td>\n",
       "      <td>-1</td>\n",
       "      <td>10/10/2011 15:21</td>\n",
       "      <td>472.770</td>\n",
       "      <td>-1</td>\n",
       "      <td>United Kingdom</td>\n",
       "    </tr>\n",
       "    <tr>\n",
       "      <th>389027</th>\n",
       "      <td>C570463</td>\n",
       "      <td>BANK CHARGES</td>\n",
       "      <td>Bank Charges</td>\n",
       "      <td>-1</td>\n",
       "      <td>10/10/2011 15:59</td>\n",
       "      <td>49.650</td>\n",
       "      <td>-1</td>\n",
       "      <td>United Kingdom</td>\n",
       "    </tr>\n",
       "    <tr>\n",
       "      <th>407618</th>\n",
       "      <td>571900</td>\n",
       "      <td>BANK CHARGES</td>\n",
       "      <td>Bank Charges</td>\n",
       "      <td>1</td>\n",
       "      <td>10/19/2011 14:26</td>\n",
       "      <td>15.000</td>\n",
       "      <td>13263</td>\n",
       "      <td>United Kingdom</td>\n",
       "    </tr>\n",
       "    <tr>\n",
       "      <th>414146</th>\n",
       "      <td>C572346</td>\n",
       "      <td>BANK CHARGES</td>\n",
       "      <td>Bank Charges</td>\n",
       "      <td>-1</td>\n",
       "      <td>10/24/2011 10:58</td>\n",
       "      <td>49.650</td>\n",
       "      <td>-1</td>\n",
       "      <td>United Kingdom</td>\n",
       "    </tr>\n",
       "    <tr>\n",
       "      <th>431351</th>\n",
       "      <td>573586</td>\n",
       "      <td>BANK CHARGES</td>\n",
       "      <td>Bank Charges</td>\n",
       "      <td>1</td>\n",
       "      <td>10/31/2011 14:48</td>\n",
       "      <td>15.000</td>\n",
       "      <td>14704</td>\n",
       "      <td>United Kingdom</td>\n",
       "    </tr>\n",
       "    <tr>\n",
       "      <th>440745</th>\n",
       "      <td>574546</td>\n",
       "      <td>BANK CHARGES</td>\n",
       "      <td>Bank Charges</td>\n",
       "      <td>1</td>\n",
       "      <td>11/4/2011 14:59</td>\n",
       "      <td>15.000</td>\n",
       "      <td>13651</td>\n",
       "      <td>United Kingdom</td>\n",
       "    </tr>\n",
       "    <tr>\n",
       "      <th>481152</th>\n",
       "      <td>C577342</td>\n",
       "      <td>BANK CHARGES</td>\n",
       "      <td>Bank Charges</td>\n",
       "      <td>-1</td>\n",
       "      <td>11/18/2011 15:11</td>\n",
       "      <td>490.060</td>\n",
       "      <td>-1</td>\n",
       "      <td>United Kingdom</td>\n",
       "    </tr>\n",
       "    <tr>\n",
       "      <th>481153</th>\n",
       "      <td>C577343</td>\n",
       "      <td>BANK CHARGES</td>\n",
       "      <td>Bank Charges</td>\n",
       "      <td>-1</td>\n",
       "      <td>11/18/2011 15:13</td>\n",
       "      <td>27.210</td>\n",
       "      <td>-1</td>\n",
       "      <td>United Kingdom</td>\n",
       "    </tr>\n",
       "    <tr>\n",
       "      <th>506357</th>\n",
       "      <td>579137</td>\n",
       "      <td>BANK CHARGES</td>\n",
       "      <td>Bank Charges</td>\n",
       "      <td>1</td>\n",
       "      <td>11/28/2011 12:51</td>\n",
       "      <td>15.000</td>\n",
       "      <td>14704</td>\n",
       "      <td>United Kingdom</td>\n",
       "    </tr>\n",
       "    <tr>\n",
       "      <th>534008</th>\n",
       "      <td>581127</td>\n",
       "      <td>BANK CHARGES</td>\n",
       "      <td>Bank Charges</td>\n",
       "      <td>1</td>\n",
       "      <td>12/7/2011 12:45</td>\n",
       "      <td>15.000</td>\n",
       "      <td>16271</td>\n",
       "      <td>United Kingdom</td>\n",
       "    </tr>\n",
       "  </tbody>\n",
       "</table>\n",
       "</div>"
      ],
      "text/plain": [
       "       InvoiceNo     StockCode   Description  Quantity       InvoiceDate  \\\n",
       "4406      536779  BANK CHARGES  Bank Charges         1   12/2/2010 15:08   \n",
       "14435    C537572  BANK CHARGES  Bank Charges        -1   12/7/2010 12:00   \n",
       "28992    C538680  BANK CHARGES  Bank Charges        -1  12/13/2010 17:10   \n",
       "62508     541505  BANK CHARGES  Bank Charges         1   1/18/2011 15:58   \n",
       "64573    C541653  BANK CHARGES  Bank Charges        -1   1/20/2011 11:50   \n",
       "90558    C544049  BANK CHARGES  Bank Charges        -1   2/15/2011 12:39   \n",
       "96675    C544575  BANK CHARGES  Bank Charges        -1   2/21/2011 13:58   \n",
       "96676    C544576  BANK CHARGES  Bank Charges        -1   2/21/2011 14:01   \n",
       "96715    C544584  BANK CHARGES  Bank Charges        -1   2/21/2011 14:52   \n",
       "112233   C545887  BANK CHARGES  Bank Charges        -1    3/7/2011 15:54   \n",
       "124025   C546943  BANK CHARGES  Bank Charges        -1   3/18/2011 11:11   \n",
       "152966    549717  BANK CHARGES  Bank Charges         1   4/11/2011 14:56   \n",
       "166515   C550932  BANK CHARGES  Bank Charges        -1   4/21/2011 15:12   \n",
       "175275    551945  BANK CHARGES  Bank Charges         1    5/5/2011 11:09   \n",
       "181258   C552458  BANK CHARGES  Bank Charges        -1    5/9/2011 14:41   \n",
       "193136   C553511  BANK CHARGES  Bank Charges        -1   5/17/2011 13:49   \n",
       "193444   C553528  BANK CHARGES  Bank Charges        -1   5/17/2011 14:58   \n",
       "227400   C556874  BANK CHARGES  Bank Charges        -1   6/15/2011 11:49   \n",
       "242465   C558349  BANK CHARGES  Bank Charges        -1   6/28/2011 14:50   \n",
       "273311   C560823  BANK CHARGES  Bank Charges        -1   7/21/2011 11:22   \n",
       "303275   C563535  BANK CHARGES  Bank Charges        -1   8/17/2011 11:38   \n",
       "313427   C564494  BANK CHARGES  Bank Charges        -1   8/25/2011 14:20   \n",
       "313461   C564498  BANK CHARGES  Bank Charges        -1   8/25/2011 14:22   \n",
       "327921    565735  BANK CHARGES  Bank Charges         1    9/6/2011 12:25   \n",
       "345020   C567136  BANK CHARGES  Bank Charges        -1   9/16/2011 14:27   \n",
       "361740    568375  BANK CHARGES  Bank Charges         1   9/26/2011 17:01   \n",
       "361741    568375  BANK CHARGES  Bank Charges         1   9/26/2011 17:01   \n",
       "388729   C570454  BANK CHARGES  Bank Charges        -1  10/10/2011 15:21   \n",
       "389027   C570463  BANK CHARGES  Bank Charges        -1  10/10/2011 15:59   \n",
       "407618    571900  BANK CHARGES  Bank Charges         1  10/19/2011 14:26   \n",
       "414146   C572346  BANK CHARGES  Bank Charges        -1  10/24/2011 10:58   \n",
       "431351    573586  BANK CHARGES  Bank Charges         1  10/31/2011 14:48   \n",
       "440745    574546  BANK CHARGES  Bank Charges         1   11/4/2011 14:59   \n",
       "481152   C577342  BANK CHARGES  Bank Charges        -1  11/18/2011 15:11   \n",
       "481153   C577343  BANK CHARGES  Bank Charges        -1  11/18/2011 15:13   \n",
       "506357    579137  BANK CHARGES  Bank Charges         1  11/28/2011 12:51   \n",
       "534008    581127  BANK CHARGES  Bank Charges         1   12/7/2011 12:45   \n",
       "\n",
       "        UnitPrice CustomerID         Country  \n",
       "4406       15.000      15823  United Kingdom  \n",
       "14435      95.380         -1  United Kingdom  \n",
       "28992     966.920         -1  United Kingdom  \n",
       "62508      15.000      15939  United Kingdom  \n",
       "64573    1050.150         -1  United Kingdom  \n",
       "90558     566.370         -1  United Kingdom  \n",
       "96675     134.760         -1  United Kingdom  \n",
       "96676     149.160         -1  United Kingdom  \n",
       "96715     109.840         -1  United Kingdom  \n",
       "112233    326.680         -1  United Kingdom  \n",
       "124025     56.930         -1  United Kingdom  \n",
       "152966     15.000      14606  United Kingdom  \n",
       "166515    475.690         -1  United Kingdom  \n",
       "175275     15.000      16714  United Kingdom  \n",
       "181258    440.290         -1  United Kingdom  \n",
       "193136     86.900         -1  United Kingdom  \n",
       "193444     82.730         -1  United Kingdom  \n",
       "227400    464.520         -1  United Kingdom  \n",
       "242465     82.890         -1  United Kingdom  \n",
       "273311     21.900         -1  United Kingdom  \n",
       "303275    612.460         -1  United Kingdom  \n",
       "313427     83.830         -1  United Kingdom  \n",
       "313461     77.630         -1  United Kingdom  \n",
       "327921     15.000      16904  United Kingdom  \n",
       "345020    366.270         -1  United Kingdom  \n",
       "361740     15.000      13405  United Kingdom  \n",
       "361741      0.001      13405  United Kingdom  \n",
       "388729    472.770         -1  United Kingdom  \n",
       "389027     49.650         -1  United Kingdom  \n",
       "407618     15.000      13263  United Kingdom  \n",
       "414146     49.650         -1  United Kingdom  \n",
       "431351     15.000      14704  United Kingdom  \n",
       "440745     15.000      13651  United Kingdom  \n",
       "481152    490.060         -1  United Kingdom  \n",
       "481153     27.210         -1  United Kingdom  \n",
       "506357     15.000      14704  United Kingdom  \n",
       "534008     15.000      16271  United Kingdom  "
      ]
     },
     "execution_count": 18,
     "metadata": {},
     "output_type": "execute_result"
    }
   ],
   "source": [
    "df_clear[df_clear.Description == 'Bank Charges']"
   ]
  },
  {
   "cell_type": "code",
   "execution_count": 19,
   "id": "c25533c1-3e70-41dc-839c-ebedfa90da8a",
   "metadata": {},
   "outputs": [],
   "source": [
    "# Данні значення є фінансовими коректуваннями і не мають ніякого відношення до продажів, тому ми їх прибираємо з аналізу\n",
    "df_clear = df_clear[df_clear.StockCode != 'B'] \n",
    "\n",
    "# Данні значення є коректуваннями з метою списання товарів, які не підлягають продажам, і не мають ніякого відношення до продажів, тому ми їх прибираємо з аналізу\n",
    "df_clear = df_clear[df_clear.Description != 'Unsaleable, destroyed.'] \n",
    "df_clear = df_clear[df_clear.Description != 'Printing smudges/thrown away'] \n",
    "df_clear = df_clear[df_clear.Description != 'printing smudges/thrown away'] \n",
    "df_clear = df_clear[df_clear.Description != 'throw away']\n",
    "df_clear = df_clear[df_clear.UnitPrice != 0]\n",
    "df_clear = df_clear[df_clear.StockCode != 'AMAZONFEE']\n",
    "df_clear = df_clear[df_clear.StockCode != 'Bank Charges']\n"
   ]
  },
  {
   "cell_type": "code",
   "execution_count": null,
   "id": "85f549a6-3d49-45ab-9fcb-fec4c8d0f677",
   "metadata": {},
   "outputs": [],
   "source": []
  },
  {
   "cell_type": "code",
   "execution_count": 20,
   "id": "8afe03b6-e094-470b-aed8-7d870be64c2b",
   "metadata": {},
   "outputs": [
    {
     "data": {
      "text/html": [
       "<div>\n",
       "<style scoped>\n",
       "    .dataframe tbody tr th:only-of-type {\n",
       "        vertical-align: middle;\n",
       "    }\n",
       "\n",
       "    .dataframe tbody tr th {\n",
       "        vertical-align: top;\n",
       "    }\n",
       "\n",
       "    .dataframe thead th {\n",
       "        text-align: right;\n",
       "    }\n",
       "</style>\n",
       "<table border=\"1\" class=\"dataframe\">\n",
       "  <thead>\n",
       "    <tr style=\"text-align: right;\">\n",
       "      <th></th>\n",
       "      <th>InvoiceNo</th>\n",
       "      <th>StockCode</th>\n",
       "      <th>Description</th>\n",
       "      <th>Quantity</th>\n",
       "      <th>InvoiceDate</th>\n",
       "      <th>UnitPrice</th>\n",
       "      <th>CustomerID</th>\n",
       "      <th>Country</th>\n",
       "    </tr>\n",
       "  </thead>\n",
       "  <tbody>\n",
       "    <tr>\n",
       "      <th>0</th>\n",
       "      <td>C581569</td>\n",
       "      <td>84978</td>\n",
       "      <td>HANGING HEART JAR T-LIGHT HOLDER</td>\n",
       "      <td>-1</td>\n",
       "      <td>12/9/2011 11:58</td>\n",
       "      <td>1.25</td>\n",
       "      <td>17315</td>\n",
       "      <td>United Kingdom</td>\n",
       "    </tr>\n",
       "    <tr>\n",
       "      <th>1</th>\n",
       "      <td>C581569</td>\n",
       "      <td>20979</td>\n",
       "      <td>36 PENCILS TUBE RED RETROSPOT</td>\n",
       "      <td>-5</td>\n",
       "      <td>12/9/2011 11:58</td>\n",
       "      <td>1.25</td>\n",
       "      <td>17315</td>\n",
       "      <td>United Kingdom</td>\n",
       "    </tr>\n",
       "    <tr>\n",
       "      <th>2</th>\n",
       "      <td>C581568</td>\n",
       "      <td>21258</td>\n",
       "      <td>VICTORIAN SEWING BOX LARGE</td>\n",
       "      <td>-5</td>\n",
       "      <td>12/9/2011 11:57</td>\n",
       "      <td>10.95</td>\n",
       "      <td>15311</td>\n",
       "      <td>United Kingdom</td>\n",
       "    </tr>\n",
       "    <tr>\n",
       "      <th>3</th>\n",
       "      <td>C581499</td>\n",
       "      <td>M</td>\n",
       "      <td>Manual</td>\n",
       "      <td>-1</td>\n",
       "      <td>12/9/2011 10:28</td>\n",
       "      <td>224.69</td>\n",
       "      <td>15498</td>\n",
       "      <td>United Kingdom</td>\n",
       "    </tr>\n",
       "    <tr>\n",
       "      <th>4</th>\n",
       "      <td>C581490</td>\n",
       "      <td>22178</td>\n",
       "      <td>VICTORIAN GLASS HANGING T-LIGHT</td>\n",
       "      <td>-12</td>\n",
       "      <td>12/9/2011 9:57</td>\n",
       "      <td>1.95</td>\n",
       "      <td>14397</td>\n",
       "      <td>United Kingdom</td>\n",
       "    </tr>\n",
       "    <tr>\n",
       "      <th>...</th>\n",
       "      <td>...</td>\n",
       "      <td>...</td>\n",
       "      <td>...</td>\n",
       "      <td>...</td>\n",
       "      <td>...</td>\n",
       "      <td>...</td>\n",
       "      <td>...</td>\n",
       "      <td>...</td>\n",
       "    </tr>\n",
       "    <tr>\n",
       "      <th>539352</th>\n",
       "      <td>536365</td>\n",
       "      <td>22752</td>\n",
       "      <td>SET 7 BABUSHKA NESTING BOXES</td>\n",
       "      <td>2</td>\n",
       "      <td>12/1/2010 8:26</td>\n",
       "      <td>7.65</td>\n",
       "      <td>17850</td>\n",
       "      <td>United Kingdom</td>\n",
       "    </tr>\n",
       "    <tr>\n",
       "      <th>539353</th>\n",
       "      <td>536365</td>\n",
       "      <td>84029E</td>\n",
       "      <td>RED WOOLLY HOTTIE WHITE HEART.</td>\n",
       "      <td>6</td>\n",
       "      <td>12/1/2010 8:26</td>\n",
       "      <td>3.39</td>\n",
       "      <td>17850</td>\n",
       "      <td>United Kingdom</td>\n",
       "    </tr>\n",
       "    <tr>\n",
       "      <th>539354</th>\n",
       "      <td>536365</td>\n",
       "      <td>84029G</td>\n",
       "      <td>KNITTED UNION FLAG HOT WATER BOTTLE</td>\n",
       "      <td>6</td>\n",
       "      <td>12/1/2010 8:26</td>\n",
       "      <td>3.39</td>\n",
       "      <td>17850</td>\n",
       "      <td>United Kingdom</td>\n",
       "    </tr>\n",
       "    <tr>\n",
       "      <th>539355</th>\n",
       "      <td>536365</td>\n",
       "      <td>84406B</td>\n",
       "      <td>CREAM CUPID HEARTS COAT HANGER</td>\n",
       "      <td>8</td>\n",
       "      <td>12/1/2010 8:26</td>\n",
       "      <td>2.75</td>\n",
       "      <td>17850</td>\n",
       "      <td>United Kingdom</td>\n",
       "    </tr>\n",
       "    <tr>\n",
       "      <th>539356</th>\n",
       "      <td>536365</td>\n",
       "      <td>85123A</td>\n",
       "      <td>WHITE HANGING HEART T-LIGHT HOLDER</td>\n",
       "      <td>6</td>\n",
       "      <td>12/1/2010 8:26</td>\n",
       "      <td>2.55</td>\n",
       "      <td>17850</td>\n",
       "      <td>United Kingdom</td>\n",
       "    </tr>\n",
       "  </tbody>\n",
       "</table>\n",
       "<p>539357 rows × 8 columns</p>\n",
       "</div>"
      ],
      "text/plain": [
       "       InvoiceNo StockCode                          Description  Quantity  \\\n",
       "0        C581569     84978     HANGING HEART JAR T-LIGHT HOLDER        -1   \n",
       "1        C581569     20979        36 PENCILS TUBE RED RETROSPOT        -5   \n",
       "2        C581568     21258           VICTORIAN SEWING BOX LARGE        -5   \n",
       "3        C581499         M                               Manual        -1   \n",
       "4        C581490     22178      VICTORIAN GLASS HANGING T-LIGHT       -12   \n",
       "...          ...       ...                                  ...       ...   \n",
       "539352    536365     22752         SET 7 BABUSHKA NESTING BOXES         2   \n",
       "539353    536365    84029E       RED WOOLLY HOTTIE WHITE HEART.         6   \n",
       "539354    536365    84029G  KNITTED UNION FLAG HOT WATER BOTTLE         6   \n",
       "539355    536365    84406B       CREAM CUPID HEARTS COAT HANGER         8   \n",
       "539356    536365    85123A   WHITE HANGING HEART T-LIGHT HOLDER         6   \n",
       "\n",
       "            InvoiceDate  UnitPrice CustomerID         Country  \n",
       "0       12/9/2011 11:58       1.25      17315  United Kingdom  \n",
       "1       12/9/2011 11:58       1.25      17315  United Kingdom  \n",
       "2       12/9/2011 11:57      10.95      15311  United Kingdom  \n",
       "3       12/9/2011 10:28     224.69      15498  United Kingdom  \n",
       "4        12/9/2011 9:57       1.95      14397  United Kingdom  \n",
       "...                 ...        ...        ...             ...  \n",
       "539352   12/1/2010 8:26       7.65      17850  United Kingdom  \n",
       "539353   12/1/2010 8:26       3.39      17850  United Kingdom  \n",
       "539354   12/1/2010 8:26       3.39      17850  United Kingdom  \n",
       "539355   12/1/2010 8:26       2.75      17850  United Kingdom  \n",
       "539356   12/1/2010 8:26       2.55      17850  United Kingdom  \n",
       "\n",
       "[539357 rows x 8 columns]"
      ]
     },
     "execution_count": 20,
     "metadata": {},
     "output_type": "execute_result"
    }
   ],
   "source": [
    "df_clear.sort_values(by = 'InvoiceNo', ascending=False, inplace=True)\n",
    "df_clear.reset_index(drop=True, inplace=True)\n",
    "df_clear"
   ]
  },
  {
   "cell_type": "code",
   "execution_count": 40,
   "id": "c33828c7-649b-44b5-804a-7232e250daa6",
   "metadata": {},
   "outputs": [
    {
     "data": {
      "text/html": [
       "<div>\n",
       "<style scoped>\n",
       "    .dataframe tbody tr th:only-of-type {\n",
       "        vertical-align: middle;\n",
       "    }\n",
       "\n",
       "    .dataframe tbody tr th {\n",
       "        vertical-align: top;\n",
       "    }\n",
       "\n",
       "    .dataframe thead th {\n",
       "        text-align: right;\n",
       "    }\n",
       "</style>\n",
       "<table border=\"1\" class=\"dataframe\">\n",
       "  <thead>\n",
       "    <tr style=\"text-align: right;\">\n",
       "      <th></th>\n",
       "      <th>Quantity</th>\n",
       "      <th>UnitPrice</th>\n",
       "    </tr>\n",
       "  </thead>\n",
       "  <tbody>\n",
       "    <tr>\n",
       "      <th>count</th>\n",
       "      <td>541909.000000</td>\n",
       "      <td>541909.000000</td>\n",
       "    </tr>\n",
       "    <tr>\n",
       "      <th>mean</th>\n",
       "      <td>9.552250</td>\n",
       "      <td>4.611114</td>\n",
       "    </tr>\n",
       "    <tr>\n",
       "      <th>std</th>\n",
       "      <td>218.081158</td>\n",
       "      <td>96.759853</td>\n",
       "    </tr>\n",
       "    <tr>\n",
       "      <th>min</th>\n",
       "      <td>-80995.000000</td>\n",
       "      <td>-11062.060000</td>\n",
       "    </tr>\n",
       "    <tr>\n",
       "      <th>25%</th>\n",
       "      <td>1.000000</td>\n",
       "      <td>1.250000</td>\n",
       "    </tr>\n",
       "    <tr>\n",
       "      <th>50%</th>\n",
       "      <td>3.000000</td>\n",
       "      <td>2.080000</td>\n",
       "    </tr>\n",
       "    <tr>\n",
       "      <th>75%</th>\n",
       "      <td>10.000000</td>\n",
       "      <td>4.130000</td>\n",
       "    </tr>\n",
       "    <tr>\n",
       "      <th>max</th>\n",
       "      <td>80995.000000</td>\n",
       "      <td>38970.000000</td>\n",
       "    </tr>\n",
       "  </tbody>\n",
       "</table>\n",
       "</div>"
      ],
      "text/plain": [
       "            Quantity      UnitPrice\n",
       "count  541909.000000  541909.000000\n",
       "mean        9.552250       4.611114\n",
       "std       218.081158      96.759853\n",
       "min    -80995.000000  -11062.060000\n",
       "25%         1.000000       1.250000\n",
       "50%         3.000000       2.080000\n",
       "75%        10.000000       4.130000\n",
       "max     80995.000000   38970.000000"
      ]
     },
     "execution_count": 40,
     "metadata": {},
     "output_type": "execute_result"
    }
   ],
   "source": [
    "df_clear.describe()"
   ]
  },
  {
   "cell_type": "code",
   "execution_count": 41,
   "id": "80e67661-d77a-4ec6-9827-d2570bae9b8d",
   "metadata": {},
   "outputs": [
    {
     "name": "stderr",
     "output_type": "stream",
     "text": [
      "C:\\Users\\v_verbitskaya\\AppData\\Local\\Programs\\Python\\Python312\\Lib\\site-packages\\tqdm\\auto.py:21: TqdmWarning: IProgress not found. Please update jupyter and ipywidgets. See https://ipywidgets.readthedocs.io/en/stable/user_install.html\n",
      "  from .autonotebook import tqdm as notebook_tqdm\n"
     ]
    }
   ],
   "source": [
    "import sweetviz as sv\n",
    "import warnings"
   ]
  },
  {
   "cell_type": "code",
   "execution_count": 42,
   "id": "751c4449-54f3-455e-b3d2-a8d9e1a3643e",
   "metadata": {},
   "outputs": [
    {
     "name": "stderr",
     "output_type": "stream",
     "text": [
      "Done! Use 'show' commands to display/save.   |█████████████████████████████████████████| [100%]   00:02 -> (00:00 left)\n"
     ]
    },
    {
     "name": "stdout",
     "output_type": "stream",
     "text": [
      "Report sweet_compare_report.html was generated! NOTEBOOK/COLAB USERS: the web browser MAY not pop up, regardless, the report IS saved in your notebook/colab files.\n"
     ]
    }
   ],
   "source": [
    "with warnings.catch_warnings(record=True):\n",
    "    config = sv.FeatureConfig(skip=['InvoiceDate','InvoiceNo'])\n",
    "    compare_report = sv.compare([df_clear[df_clear.Country == 'Germany'], \"Germany\"]\n",
    "                                , [df_clear[df_clear.Country == 'France'], \"France\"]\n",
    "                                , feat_cfg = config)\n",
    "    compare_report.show_html('sweet_compare_report.html')"
   ]
  },
  {
   "cell_type": "markdown",
   "id": "5e0d87ee-d139-48f6-86d8-19be76bc7e22",
   "metadata": {},
   "source": [
    "Відмінності для країн на основі проведеного аналізу:\n",
    "1. Відрізняються ТОР категорій для цих двох країн. Наприклад, товари найпопулярніші у Німеччині не мають популярність у Франції зовсім\n",
    "2. У Німеччині кореляція CustomerID/Quantity вища, тобто є певна категорія людей, які роблять великі закупки товарів\n",
    "3. У Німеччині більш сильна кореляція між кількістю куплених товарі та ціною за 1 шт.\n",
    "4. При приблизно рівних середніх значеннях і для ціни за одиницю, і для кількості придбаних товарів, розмах і максимальне значення у Франції значно відрізняються від Німеччини\n",
    "5. Аналізуючи розподіл кількості придбаних товарів і розподіл їх цін для Німеччини та для Франції, можна сказати, що обидва розподіли у поточному вигляді не є нормальними, але для Франції коефіцієнти KURT, SKEW  є значно вищими, що вказує на те, що розподіл даних для Франції є значно викривлений вправо і витягнутий вгору"
   ]
  },
  {
   "cell_type": "markdown",
   "id": "07ae375a",
   "metadata": {
    "ExecuteTime": {
     "end_time": "2023-07-30T18:55:42.650457Z",
     "start_time": "2023-07-30T18:55:42.635729Z"
    }
   },
   "source": [
    "8.З допомогою ChatGPT виявіть, чи є та які помилки в наступному коді.  \n",
    "Попросіть після цього переписати код із дотриманням PEP8. Проаналізуйте результат. Чи справді ChatGPT виправив всі стилістичні помилки? Якщо ні, напишіть йому ще кілька запитів, аби код відповідав вимогам PEP8.  \n",
    "Вставте фінальну версію коду з чату у ноутбук та запустіть на заданому списку. Має вертатись 50.  \n",
    "Напишіть, які промпти (інструкції) при зверненні до ChatGPT ви застосували та додайте скріншот(-и) з промптами та відповідями чата.  \n",
    "Якщо зробили висновки при виконанні цього завдання, то діліться також :)\n",
    "\n",
    "**ЯК ВСТАВИТИ СКРІНШОТ в Jupyter Notebook** :\n",
    "1. Створіть нову Markdown клітинку\n",
    "2. В новоствореній клітинці обираєте в меню Jupyter Notebook Edit -> Insert Image\n",
    "3. Обираєте картинку \n",
    "4. В клітинці має зʼявитись текст, який містить картинку. Запустіть клітинку.\n",
    "\n",
    "Або можна просто перетягнути картинку в Markdown клітинку."
   ]
  },
  {
   "cell_type": "code",
   "execution_count": 46,
   "id": "a5c010c4",
   "metadata": {
    "ExecuteTime": {
     "end_time": "2023-07-30T19:16:20.977219Z",
     "start_time": "2023-07-30T19:16:20.973688Z"
    }
   },
   "outputs": [],
   "source": [
    "def CalculateVariance(nl):\n",
    "    sum_list = 0\n",
    "    for n in nl:\n",
    "        sum_list = sum_list + n\n",
    "    mean = sum_list / len(nl)\n",
    "    sum_squares = 0\n",
    "    for n in nl:\n",
    "        sum_squares = sum_squares + n**2\n",
    "    mean_squares = sum_squares / len(nl)\n",
    "    return mean_squares"
   ]
  },
  {
   "cell_type": "code",
   "execution_count": 47,
   "id": "24bb3f81",
   "metadata": {
    "ExecuteTime": {
     "end_time": "2023-07-30T19:16:09.201841Z",
     "start_time": "2023-07-30T19:16:09.199174Z"
    }
   },
   "outputs": [],
   "source": [
    "input_list = [75, 80, 85, 90, 95]"
   ]
  },
  {
   "cell_type": "code",
   "execution_count": 50,
   "id": "fe98f1c6-1b67-4183-94af-a1415c654d57",
   "metadata": {},
   "outputs": [],
   "source": [
    "def calculate_variance(data):\n",
    "    \"\"\"\n",
    "    Calculate the variance of a list of numbers.\n",
    "\n",
    "    Args:\n",
    "        data (list): A list of numeric values.\n",
    "\n",
    "    Returns:\n",
    "        float: The variance of the input data.\n",
    "    \"\"\"\n",
    "    sum_data = sum(data)\n",
    "    mean = sum_data / len(data)\n",
    "    sum_squares = sum((x - mean) ** 2 for x in data)\n",
    "    variance = sum_squares / len(data)\n",
    "    return variance"
   ]
  },
  {
   "cell_type": "code",
   "execution_count": 51,
   "id": "6831172e-eca1-4373-908e-a84ae217fd8a",
   "metadata": {},
   "outputs": [
    {
     "name": "stdout",
     "output_type": "stream",
     "text": [
      "50.0\n"
     ]
    }
   ],
   "source": [
    "print(calculate_variance(input_list))"
   ]
  },
  {
   "attachments": {
    "3568436e-25cf-4fdc-9934-ab18a55eea18.png": {
     "image/png": "[encoded data removed]"
    }
   },
   "cell_type": "markdown",
   "id": "96aecc8b-1ed6-4da9-9ab8-4c7d635e020a",
   "metadata": {},
   "source": [
    "![image.png](attachment:3568436e-25cf-4fdc-9934-ab18a55eea18.png)"
   ]
  },
  {
   "attachments": {
    "d537d82a-81fc-4c1c-86b6-1584d808c02b.png": {
     "image/png": "[encoded data removed]"
    }
   },
   "cell_type": "markdown",
   "id": "de07d226-d30d-4fe7-b3e5-a49044576971",
   "metadata": {},
   "source": [
    "![image.png](attachment:d537d82a-81fc-4c1c-86b6-1584d808c02b.png)"
   ]
  },
  {
   "attachments": {
    "587944eb-d4f4-4a8d-b00c-c4453b9db7ed.png": {
     "image/png": "[encoded data removed]"
    }
   },
   "cell_type": "markdown",
   "id": "f2be145d-5238-4210-ae9b-677f1c30a6c5",
   "metadata": {},
   "source": [
    "![image.png](attachment:587944eb-d4f4-4a8d-b00c-c4453b9db7ed.png)"
   ]
  },
  {
   "attachments": {
    "10003988-95e4-481e-92b4-a85cff9cf808.png": {
     "image/png": "[encoded data removed]"
    }
   },
   "cell_type": "markdown",
   "id": "6ecf8dfe-d53d-4d38-a710-c52e11acc55a",
   "metadata": {},
   "source": [
    "![image.png](attachment:10003988-95e4-481e-92b4-a85cff9cf808.png)"
   ]
  },
  {
   "attachments": {
    "4719aa32-bd9d-4b65-a304-a4452d81abfc.png": {
     "image/png": "[encoded data removed]"
    }
   },
   "cell_type": "markdown",
   "id": "98e35fdc-7de4-424e-a258-9a3c3111cb2d",
   "metadata": {},
   "source": [
    "![image.png](attachment:4719aa32-bd9d-4b65-a304-a4452d81abfc.png)"
   ]
  }
 ],
 "metadata": {
  "kernelspec": {
   "display_name": "Python 3 (ipykernel)",
   "language": "python",
   "name": "python3"
  },
  "language_info": {
   "codemirror_mode": {
    "name": "ipython",
    "version": 3
   },
   "file_extension": ".py",
   "mimetype": "text/x-python",
   "name": "python",
   "nbconvert_exporter": "python",
   "pygments_lexer": "ipython3",
   "version": "3.12.0"
  },
  "toc": {
   "base_numbering": 1,
   "nav_menu": {},
   "number_sections": true,
   "sideBar": true,
   "skip_h1_title": false,
   "title_cell": "Table of Contents",
   "title_sidebar": "Contents",
   "toc_cell": false,
   "toc_position": {},
   "toc_section_display": true,
   "toc_window_display": false
  }
 },
 "nbformat": 4,
 "nbformat_minor": 5
}
